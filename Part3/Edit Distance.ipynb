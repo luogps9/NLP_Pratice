{
 "cells": [
  {
   "cell_type": "code",
   "execution_count": null,
   "metadata": {},
   "outputs": [],
   "source": [
    "'''\n",
    "编辑距离是比较两个字符串的方法，可以通过增、删、改的方式进行操作\n",
    "'''"
   ]
  },
  {
   "cell_type": "code",
   "execution_count": 3,
   "metadata": {},
   "outputs": [],
   "source": [
    "from functools import lru_cache   # 用来做缓存，能把相对耗时的函数结果进行保存，避免传入相同的参数进行重复计算"
   ]
  },
  {
   "cell_type": "code",
   "execution_count": 15,
   "metadata": {},
   "outputs": [],
   "source": [
    "solution={}"
   ]
  },
  {
   "cell_type": "code",
   "execution_count": 25,
   "metadata": {},
   "outputs": [],
   "source": [
    "@lru_cache(maxsize=2**10)\n",
    "def edit_distance(string1,string2):\n",
    "    if len(string1)==0:\n",
    "        return len(string2)   # 如果string1为空，string1到string2需要添加len（string2）步\n",
    "    if len(string2)==0:\n",
    "        return len(string1)   # 如果string2为空，string1到string2需要添加len（string1）步\n",
    "    \n",
    "    # 取字符串的最后一位\n",
    "    tail_str1 = string1[-1]\n",
    "    tail_str2 = string2[-1]\n",
    "    condidates = [\n",
    "        (edit_distance(string1[:-1],string2)+1,'DEL {}'.format(tail_str1)),\n",
    "        (edit_distance(string1,string2[:-1])+1,'ADD {}'.format(tail_str2)),\n",
    "    ]\n",
    "    \n",
    "    # 每次都根据最后一位进行判断，如果不同需要增加一个替换的操作\n",
    "    \n",
    "    if tail_str1 == tail_str2:\n",
    "        both_forward = (edit_distance(string1[:-1],string2[:-1])+0,'')\n",
    "    else:\n",
    "        both_forward = (edit_distance(string1[:-1],string2[:-1])+1,'SUB {} => {}'.format(tail_str1,tail_str2))\n",
    "    \n",
    "    condidates.append(both_forward)\n",
    "    \n",
    "    #print(min(condidates, key=lambda x: x[0]))\n",
    "    \n",
    "    min_distance,operation = min(condidates,key=lambda x : x[0]) # 按照需要改变的次数排序，选择最少的编辑次数\n",
    "    \n",
    "    \n",
    "    solution[(string1,string2)] = operation\n",
    "    \n",
    "    return min_distance\n",
    "    \n",
    "    "
   ]
  },
  {
   "cell_type": "code",
   "execution_count": 26,
   "metadata": {},
   "outputs": [
    {
     "name": "stdout",
     "output_type": "stream",
     "text": [
      "(0, '')\n",
      "(1, 'ADD C')\n",
      "(2, 'ADD D')\n",
      "(3, 'ADD E')\n",
      "(1, 'DEL B')\n",
      "(1, 'SUB B => C')\n",
      "(2, 'ADD D')\n",
      "(3, 'ADD E')\n",
      "(2, 'DEL C')\n",
      "(1, '')\n",
      "(2, 'ADD D')\n",
      "(3, 'ADD E')\n",
      "(3, 'DEL D')\n",
      "(2, 'DEL D')\n",
      "(1, '')\n",
      "(2, 'ADD E')\n",
      "(4, 'DEL E')\n",
      "(3, 'DEL E')\n",
      "(2, 'DEL E')\n",
      "(1, '')\n"
     ]
    },
    {
     "data": {
      "text/plain": [
       "1"
      ]
     },
     "execution_count": 26,
     "metadata": {},
     "output_type": "execute_result"
    }
   ],
   "source": [
    "edit_distance('ABCDE','ACDE')"
   ]
  },
  {
   "cell_type": "code",
   "execution_count": 18,
   "metadata": {},
   "outputs": [
    {
     "data": {
      "text/plain": [
       "{('A', 'A'): '',\n",
       " ('A', 'AC'): 'ADD C',\n",
       " ('A', 'ACD'): 'ADD D',\n",
       " ('A', 'ACDE'): 'ADD E',\n",
       " ('AB', 'A'): 'DEL B',\n",
       " ('AB', 'AC'): 'SUB B => C',\n",
       " ('AB', 'ACD'): 'ADD D',\n",
       " ('AB', 'ACDE'): 'ADD E',\n",
       " ('ABC', 'A'): 'DEL C',\n",
       " ('ABC', 'AC'): '',\n",
       " ('ABC', 'ACD'): 'ADD D',\n",
       " ('ABC', 'ACDE'): 'ADD E',\n",
       " ('ABCD', 'A'): 'DEL D',\n",
       " ('ABCD', 'AC'): 'DEL D',\n",
       " ('ABCD', 'ACD'): '',\n",
       " ('ABCD', 'ACDE'): 'ADD E',\n",
       " ('ABCDE', 'A'): 'DEL E',\n",
       " ('ABCDE', 'AC'): 'DEL E',\n",
       " ('ABCDE', 'ACD'): 'DEL E',\n",
       " ('ABCDE', 'ACDE'): ''}"
      ]
     },
     "execution_count": 18,
     "metadata": {},
     "output_type": "execute_result"
    }
   ],
   "source": [
    "solution"
   ]
  },
  {
   "cell_type": "code",
   "execution_count": null,
   "metadata": {},
   "outputs": [],
   "source": []
  }
 ],
 "metadata": {
  "kernelspec": {
   "display_name": "Python 3",
   "language": "python",
   "name": "python3"
  },
  "language_info": {
   "codemirror_mode": {
    "name": "ipython",
    "version": 3
   },
   "file_extension": ".py",
   "mimetype": "text/x-python",
   "name": "python",
   "nbconvert_exporter": "python",
   "pygments_lexer": "ipython3",
   "version": "3.6.5"
  }
 },
 "nbformat": 4,
 "nbformat_minor": 2
}
