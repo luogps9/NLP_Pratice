{
 "cells": [
  {
   "cell_type": "markdown",
   "metadata": {},
   "source": [
    "# 1、the housing price machine learning"
   ]
  },
  {
   "cell_type": "code",
   "execution_count": 13,
   "metadata": {},
   "outputs": [],
   "source": [
    "# 导入库\n",
    "import pandas as pd\n",
    "import numpy as np\n",
    "from  sklearn.datasets import load_boston"
   ]
  },
  {
   "cell_type": "code",
   "execution_count": 14,
   "metadata": {},
   "outputs": [],
   "source": [
    "# 加载数据集\n",
    "dataset = load_boston()\n",
    "#help(load_boston)"
   ]
  },
  {
   "cell_type": "code",
   "execution_count": 16,
   "metadata": {},
   "outputs": [],
   "source": [
    "X,y = dataset.data,dataset.target"
   ]
  },
  {
   "cell_type": "code",
   "execution_count": 17,
   "metadata": {},
   "outputs": [
    {
     "data": {
      "text/plain": [
       "(506, 13)"
      ]
     },
     "execution_count": 17,
     "metadata": {},
     "output_type": "execute_result"
    }
   ],
   "source": [
    "X.shape"
   ]
  },
  {
   "cell_type": "code",
   "execution_count": 18,
   "metadata": {},
   "outputs": [
    {
     "data": {
      "text/plain": [
       "(506,)"
      ]
     },
     "execution_count": 18,
     "metadata": {},
     "output_type": "execute_result"
    }
   ],
   "source": [
    "y.shape"
   ]
  },
  {
   "cell_type": "code",
   "execution_count": 19,
   "metadata": {},
   "outputs": [],
   "source": [
    "%matplotlib inline"
   ]
  },
  {
   "cell_type": "code",
   "execution_count": 20,
   "metadata": {},
   "outputs": [],
   "source": [
    "import matplotlib.pyplot as plt"
   ]
  },
  {
   "cell_type": "code",
   "execution_count": 21,
   "metadata": {},
   "outputs": [
    {
     "data": {
      "text/plain": [
       "<matplotlib.collections.PathCollection at 0x2c593671208>"
      ]
     },
     "execution_count": 21,
     "metadata": {},
     "output_type": "execute_result"
    },
    {
     "data": {
      "image/png": "[encoded data removed]",
      "text/plain": [
       "<Figure size 432x288 with 1 Axes>"
      ]
     },
     "metadata": {},
     "output_type": "display_data"
    }
   ],
   "source": [
    "plt.scatter(X[:,5],y)   # 查看数据集的分布，房间数量和房价的关系"
   ]
  },
  {
   "cell_type": "markdown",
   "metadata": {},
   "source": [
    "### First_Method-- Random Choose Method to get optimal k and b"
   ]
  },
  {
   "cell_type": "code",
   "execution_count": 23,
   "metadata": {},
   "outputs": [],
   "source": [
    "# 从上图可知，房间数量和房价大致服从线性分布，先定义一个线性函数表示：\n",
    "def price(x,k,b):\n",
    "    return k * x + b\n"
   ]
  },
  {
   "cell_type": "code",
   "execution_count": 22,
   "metadata": {},
   "outputs": [],
   "source": [
    "# 定义loss函数\n",
    "def loss(y,y_hat):\n",
    "    return sum((y_i-y_hat_i)**2  for y_i,y_hat_i in zip(list(y),list(y_hat))) / len(list(y))"
   ]
  },
  {
   "cell_type": "code",
   "execution_count": 24,
   "metadata": {},
   "outputs": [],
   "source": [
    "# 随机找到一个k 和 b 构成的线性函数使其能拟合该数据\n",
    "import random\n",
    "def random_k_b(times):\n",
    "    min_loss = float('inf')  #初始化一个loss值，代表正无穷\n",
    "    for i in range(times):\n",
    "        k = random.random()*200 - 100\n",
    "        b = random.random()*200 - 100\n",
    "        y_random_k_and_b = [price(r,k,b) for r in X[:,5]]\n",
    "        \n",
    "        # current_loss = loss(y,y_random_k_and_b)\n",
    "        current_loss = loss(y,y_random_k_and_b)\n",
    "        if current_loss < min_loss:\n",
    "            min_loss = current_loss\n",
    "            \n",
    "            best_k = k\n",
    "            best_b = b\n",
    "            \n",
    "            print('The best_k is :{}, The bset_b is :{},The min_loss is :{}'.format(best_k,best_b,min_loss))"
   ]
  },
  {
   "cell_type": "code",
   "execution_count": 64,
   "metadata": {},
   "outputs": [
    {
     "name": "stdout",
     "output_type": "stream",
     "text": [
      "The best_k is :-84.00776513397498, The bset_b is :17.21814567588538,The min_loss is :288694.8225524866\n",
      "The best_k is :-63.75885650790658, The bset_b is :38.416422222885046,The min_loss is :150743.67933565844\n",
      "The best_k is :-27.169166706523782, The bset_b is :60.87497701770914,The min_loss is :18223.170670429903\n",
      "The best_k is :-9.6116698849861, The bset_b is :48.14895789830956,The min_loss is :1426.4669359180546\n",
      "The best_k is :-3.1453940210618896, The bset_b is :23.346005203762886,The min_loss is :476.7767607238498\n",
      "The best_k is :11.836630828142418, The bset_b is :-31.457353460440316,The min_loss is :463.39321972220614\n",
      "The best_k is :14.536082303214243, The bset_b is :-76.82111494048974,The min_loss is :122.1482256955794\n",
      "The best_k is :10.634742181597431, The bset_b is :-39.1961454219254,The min_loss is :70.83436742173065\n",
      "The best_k is :14.268926498001932, The bset_b is :-69.56165220901443,The min_loss is :62.60739152467581\n",
      "The best_k is :7.613780283636132, The bset_b is :-28.823006400949595,The min_loss is :56.98387914306083\n",
      "The best_k is :12.321525231776704, The bset_b is :-56.74213584702845,The min_loss is :52.08783506025308\n",
      "The best_k is :13.012210051427857, The bset_b is :-59.75771656198001,The min_loss is :51.39703839797967\n",
      "The best_k is :7.391831000235612, The bset_b is :-25.547445310303416,The min_loss is :47.683298502073775\n"
     ]
    }
   ],
   "source": [
    "random_k_b(2000)"
   ]
  },
  {
   "cell_type": "code",
   "execution_count": 65,
   "metadata": {},
   "outputs": [
    {
     "data": {
      "text/plain": [
       "<matplotlib.collections.PathCollection at 0x2696beb3e48>"
      ]
     },
     "execution_count": 65,
     "metadata": {},
     "output_type": "execute_result"
    },
    {
     "data": {
      "image/png": "[encoded data removed]",
      "text/plain": [
       "<Figure size 432x288 with 1 Axes>"
      ]
     },
     "metadata": {},
     "output_type": "display_data"
    }
   ],
   "source": [
    "k = 7.391831000235612\n",
    "b = -25.547445310303416\n",
    "y_random_k_and_b = [price(r,k,b) for r in X[:,5]]\n",
    "plt.scatter(X[:,5],y)\n",
    "plt.scatter(X[:,5],y_random_k_and_b)"
   ]
  },
  {
   "cell_type": "markdown",
   "metadata": {},
   "source": [
    "### Second_Method : Supervised Direction to get optimal k and b"
   ]
  },
  {
   "cell_type": "code",
   "execution_count": 145,
   "metadata": {},
   "outputs": [],
   "source": [
    "# 针对第一种方法的改进：由于k 和 b 都有一个随机增大、随机减下的方向，因此有4种情况，通过控制k 和 b 的大小、方向\n",
    "def Supervised_k_b(times):\n",
    "    min_loss = float('inf')\n",
    "    best_k = random.random()*200 - 100\n",
    "    best_b = random.random()*200 - 100\n",
    "    direction = [\n",
    "        (+1,+1),\n",
    "        (+1,-1),\n",
    "        (-1,+1),\n",
    "        (-1,-1)\n",
    "    ]\n",
    "    next_direction = random.choice(direction)\n",
    "    scalar = 1 # 学习率\n",
    "    for i in range(times):\n",
    "        k_direction,b_direction = next_direction\n",
    "        current_k = best_k + k_direction*scalar   # 通过控制k 和 b 的方向 以及学习率来选择\n",
    "        current_b = best_b + b_direction*scalar\n",
    "        y_random_k_and_b = [price(r,current_k,current_b) for r in X[:,5]]\n",
    "        \n",
    "        current_loss = loss(y,y_random_k_and_b)\n",
    "        if current_loss < min_loss:\n",
    "            min_loss = current_loss\n",
    "            \n",
    "            best_k = current_k\n",
    "            best_b = current_b\n",
    "            next_direction = next_direction\n",
    "            print('The time is:{},The best_k is :{}, The bset_b is :{},The min_loss is :{}'.format(i,best_k,best_b,min_loss))\n",
    "        else:\n",
    "            next_direction = random.choice(direction)\n",
    "    "
   ]
  },
  {
   "cell_type": "code",
   "execution_count": 149,
   "metadata": {},
   "outputs": [
    {
     "name": "stdout",
     "output_type": "stream",
     "text": [
      "The time is:0,The best_k is :-70.82198489070248, The bset_b is :61.02714331545985,The min_loss is :168511.13119221118\n",
      "The time is:3,The best_k is :-69.82198489070248, The bset_b is :60.02714331545985,The min_loss is :164163.37298909348\n",
      "The time is:4,The best_k is :-68.82198489070248, The bset_b is :59.02714331545985,The min_loss is :159872.45489762386\n",
      "The time is:5,The best_k is :-67.82198489070248, The bset_b is :58.02714331545985,The min_loss is :155638.37691780252\n",
      "The time is:6,The best_k is :-66.82198489070248, The bset_b is :57.02714331545985,The min_loss is :151461.1390496293\n",
      "The time is:7,The best_k is :-65.82198489070248, The bset_b is :56.02714331545985,The min_loss is :147340.74129310474\n",
      "The time is:8,The best_k is :-64.82198489070248, The bset_b is :55.02714331545985,The min_loss is :143277.18364822806\n",
      "The time is:9,The best_k is :-63.82198489070248, The bset_b is :54.02714331545985,The min_loss is :139270.46611499967\n",
      "The time is:10,The best_k is :-62.82198489070248, The bset_b is :53.02714331545985,The min_loss is :135320.58869341947\n",
      "The time is:11,The best_k is :-61.82198489070248, The bset_b is :52.02714331545985,The min_loss is :131427.55138348727\n",
      "The time is:12,The best_k is :-60.82198489070248, The bset_b is :51.02714331545985,The min_loss is :127591.35418520366\n",
      "The time is:13,The best_k is :-59.82198489070248, The bset_b is :50.02714331545985,The min_loss is :123811.99709856808\n",
      "The time is:14,The best_k is :-58.82198489070248, The bset_b is :49.02714331545985,The min_loss is :120089.48012358072\n",
      "The time is:15,The best_k is :-57.82198489070248, The bset_b is :48.02714331545985,The min_loss is :116423.80326024168\n",
      "The time is:16,The best_k is :-56.82198489070248, The bset_b is :47.02714331545985,The min_loss is :112814.9665085508\n",
      "The time is:17,The best_k is :-55.82198489070248, The bset_b is :46.02714331545985,The min_loss is :109262.96986850805\n",
      "The time is:18,The best_k is :-54.82198489070248, The bset_b is :45.02714331545985,The min_loss is :105767.8133401137\n",
      "The time is:19,The best_k is :-53.82198489070248, The bset_b is :44.02714331545985,The min_loss is :102329.49692336752\n",
      "The time is:20,The best_k is :-52.82198489070248, The bset_b is :43.02714331545985,The min_loss is :98948.02061826961\n",
      "The time is:21,The best_k is :-51.82198489070248, The bset_b is :42.02714331545985,The min_loss is :95623.38442481974\n",
      "The time is:22,The best_k is :-50.82198489070248, The bset_b is :41.02714331545985,The min_loss is :92355.58834301833\n",
      "The time is:23,The best_k is :-49.82198489070248, The bset_b is :40.02714331545985,The min_loss is :89144.63237286491\n",
      "The time is:24,The best_k is :-48.82198489070248, The bset_b is :39.02714331545985,The min_loss is :85990.51651435976\n",
      "The time is:25,The best_k is :-47.82198489070248, The bset_b is :38.02714331545985,The min_loss is :82893.24076750298\n",
      "The time is:26,The best_k is :-46.82198489070248, The bset_b is :37.02714331545985,The min_loss is :79852.80513229432\n",
      "The time is:27,The best_k is :-45.82198489070248, The bset_b is :36.02714331545985,The min_loss is :76869.20960873376\n",
      "The time is:28,The best_k is :-44.82198489070248, The bset_b is :35.02714331545985,The min_loss is :73942.45419682164\n",
      "The time is:29,The best_k is :-43.82198489070248, The bset_b is :34.02714331545985,The min_loss is :71072.53889655763\n",
      "The time is:30,The best_k is :-42.82198489070248, The bset_b is :33.02714331545985,The min_loss is :68259.46370794183\n",
      "The time is:31,The best_k is :-41.82198489070248, The bset_b is :32.02714331545985,The min_loss is :65503.22863097428\n",
      "The time is:32,The best_k is :-40.82198489070248, The bset_b is :31.027143315459853,The min_loss is :62803.83366565494\n",
      "The time is:33,The best_k is :-39.82198489070248, The bset_b is :30.027143315459853,The min_loss is :60161.278811983866\n",
      "The time is:34,The best_k is :-38.82198489070248, The bset_b is :29.027143315459853,The min_loss is :57575.56406996097\n",
      "The time is:35,The best_k is :-37.82198489070248, The bset_b is :28.027143315459853,The min_loss is :55046.6894395863\n",
      "The time is:36,The best_k is :-36.82198489070248, The bset_b is :27.027143315459853,The min_loss is :52574.65492085987\n",
      "The time is:37,The best_k is :-35.82198489070248, The bset_b is :26.027143315459853,The min_loss is :50159.46051378161\n",
      "The time is:38,The best_k is :-34.82198489070248, The bset_b is :25.027143315459853,The min_loss is :47801.10621835164\n",
      "The time is:39,The best_k is :-33.82198489070248, The bset_b is :24.027143315459853,The min_loss is :45499.592034569876\n",
      "The time is:40,The best_k is :-32.82198489070248, The bset_b is :23.027143315459853,The min_loss is :43254.91796243632\n",
      "The time is:41,The best_k is :-31.82198489070248, The bset_b is :22.027143315459853,The min_loss is :41067.084001950985\n",
      "The time is:42,The best_k is :-30.82198489070248, The bset_b is :21.027143315459853,The min_loss is :38936.09015311386\n",
      "The time is:43,The best_k is :-29.82198489070248, The bset_b is :20.027143315459853,The min_loss is :36861.936415924916\n",
      "The time is:44,The best_k is :-28.82198489070248, The bset_b is :19.027143315459853,The min_loss is :34844.62279038432\n",
      "The time is:45,The best_k is :-27.82198489070248, The bset_b is :18.027143315459853,The min_loss is :32884.14927649183\n",
      "The time is:46,The best_k is :-26.82198489070248, The bset_b is :17.027143315459853,The min_loss is :30980.515874247587\n",
      "The time is:47,The best_k is :-25.82198489070248, The bset_b is :16.027143315459853,The min_loss is :29133.722583651615\n",
      "The time is:48,The best_k is :-24.82198489070248, The bset_b is :15.027143315459853,The min_loss is :27343.76940470378\n",
      "The time is:49,The best_k is :-23.82198489070248, The bset_b is :14.027143315459853,The min_loss is :25610.656337404245\n",
      "The time is:50,The best_k is :-22.82198489070248, The bset_b is :13.027143315459853,The min_loss is :23934.38338175291\n",
      "The time is:51,The best_k is :-21.82198489070248, The bset_b is :12.027143315459853,The min_loss is :22314.95053774977\n",
      "The time is:52,The best_k is :-20.82198489070248, The bset_b is :11.027143315459853,The min_loss is :20752.357805394877\n",
      "The time is:53,The best_k is :-19.82198489070248, The bset_b is :10.027143315459853,The min_loss is :19246.60518468819\n",
      "The time is:54,The best_k is :-18.82198489070248, The bset_b is :9.027143315459853,The min_loss is :17797.69267562973\n",
      "The time is:55,The best_k is :-17.82198489070248, The bset_b is :8.027143315459853,The min_loss is :16405.620278219478\n",
      "The time is:56,The best_k is :-16.82198489070248, The bset_b is :7.027143315459853,The min_loss is :15070.387992457478\n",
      "The time is:57,The best_k is :-15.821984890702481, The bset_b is :6.027143315459853,The min_loss is :13791.995818343694\n",
      "The time is:58,The best_k is :-14.821984890702481, The bset_b is :5.027143315459853,The min_loss is :12570.443755878123\n",
      "The time is:59,The best_k is :-13.821984890702481, The bset_b is :4.027143315459853,The min_loss is :11405.73180506076\n",
      "The time is:60,The best_k is :-12.821984890702481, The bset_b is :3.0271433154598526,The min_loss is :10297.859965891641\n",
      "The time is:61,The best_k is :-11.821984890702481, The bset_b is :2.0271433154598526,The min_loss is :9246.828238370716\n",
      "The time is:62,The best_k is :-10.821984890702481, The bset_b is :1.0271433154598526,The min_loss is :8252.63662249802\n",
      "The time is:63,The best_k is :-9.821984890702481, The bset_b is :0.0271433154598526,The min_loss is :7315.285118273557\n",
      "The time is:64,The best_k is :-8.821984890702481, The bset_b is :-0.9728566845401474,The min_loss is :6434.773725697306\n",
      "The time is:65,The best_k is :-7.821984890702481, The bset_b is :-1.9728566845401474,The min_loss is :5611.102444769288\n",
      "The time is:66,The best_k is :-6.821984890702481, The bset_b is :-2.9728566845401474,The min_loss is :4844.271275489487\n",
      "The time is:67,The best_k is :-5.821984890702481, The bset_b is :-3.9728566845401474,The min_loss is :4134.280217857903\n",
      "The time is:68,The best_k is :-4.821984890702481, The bset_b is :-4.972856684540147,The min_loss is :3481.1292718745435\n",
      "The time is:69,The best_k is :-3.821984890702481, The bset_b is :-5.972856684540147,The min_loss is :2884.818437539403\n",
      "The time is:70,The best_k is :-2.821984890702481, The bset_b is :-6.972856684540147,The min_loss is :2345.347714852486\n",
      "The time is:71,The best_k is :-1.8219848907024812, The bset_b is :-7.972856684540147,The min_loss is :1862.717103813788\n",
      "The time is:72,The best_k is :-0.8219848907024812, The bset_b is :-8.972856684540147,The min_loss is :1436.9266044233136\n",
      "The time is:73,The best_k is :0.17801510929751885, The bset_b is :-9.972856684540147,The min_loss is :1067.9762166810606\n",
      "The time is:74,The best_k is :1.1780151092975188, The bset_b is :-10.972856684540147,The min_loss is :755.8659405870272\n",
      "The time is:75,The best_k is :2.178015109297519, The bset_b is :-11.972856684540147,The min_loss is :500.5957761412158\n",
      "The time is:76,The best_k is :3.178015109297519, The bset_b is :-12.972856684540147,The min_loss is :302.16572334362604\n",
      "The time is:77,The best_k is :4.178015109297519, The bset_b is :-13.972856684540147,The min_loss is :160.57578219425756\n",
      "The time is:78,The best_k is :5.178015109297519, The bset_b is :-14.972856684540147,The min_loss is :75.82595269311048\n",
      "The time is:79,The best_k is :6.178015109297519, The bset_b is :-15.972856684540147,The min_loss is :47.91623484018465\n"
     ]
    },
    {
     "name": "stdout",
     "output_type": "stream",
     "text": [
      "None\n"
     ]
    }
   ],
   "source": [
    "print(Supervised_k_b(2000))   # 此时，会随着一个loss值减小的方向一直变换"
   ]
  },
  {
   "cell_type": "markdown",
   "metadata": {},
   "source": [
    "### Third_Methon:Gradient Descent to get optimal k and b"
   ]
  },
  {
   "cell_type": "code",
   "execution_count": null,
   "metadata": {},
   "outputs": [],
   "source": [
    "# 由于前两种方法都有一定的随机性，下面使用梯度下降法求解线性回归,即每次都使 k b step都沿着负梯度方向进行\n",
    "\n",
    "\"\"\"\n",
    "根据loss函数的方程得知，由于y x都是常量，因此要确保loss值最小，使得k 和 b最小即可，因此对k b 分别求偏导，使得导数为0，可求极值\n",
    "\"\"\"\n"
   ]
  },
  {
   "cell_type": "code",
   "execution_count": 25,
   "metadata": {},
   "outputs": [],
   "source": [
    "# 求k的导数\n",
    "\n",
    "def gradient_k(x,y,y_hat):\n",
    "    n = len(y)\n",
    "\n",
    "    gradient = 0\n",
    "    \n",
    "    for x_i, y_i, y_hat_i in zip(list(x), list(y), list(y_hat)):\n",
    "        gradient += (y_i - y_hat_i) * x_i\n",
    "    \n",
    "    return -2 / n * gradient"
   ]
  },
  {
   "cell_type": "code",
   "execution_count": 37,
   "metadata": {},
   "outputs": [],
   "source": [
    "def gradient_b(x,y,y_hat):\n",
    "    n = len(y)\n",
    "\n",
    "    gradient = 0\n",
    "    \n",
    "    for x_i, y_i, y_hat_i in zip(list(x), list(y), list(y_hat)):\n",
    "        gradient += (y_i - y_hat_i) \n",
    "    \n",
    "    return -2 / n * gradient"
   ]
  },
  {
   "cell_type": "code",
   "execution_count": 56,
   "metadata": {},
   "outputs": [],
   "source": [
    "X_rm=X[:,5]"
   ]
  },
  {
   "cell_type": "code",
   "execution_count": 53,
   "metadata": {},
   "outputs": [],
   "source": [
    "# 让k 和 b沿着梯度下降的方向进行更新\n",
    "\n",
    "def gredient_descend(times):\n",
    "    \n",
    "    min_loss = float('inf')\n",
    "    current_k = random.random()*200 - 100\n",
    "    current_b = random.random()*200 - 100\n",
    "    learning_rate = 1e-04 # 学习率\n",
    "    for i in range(times):\n",
    "    \n",
    "        price_by_k_and_b  = [price(r, current_k, current_b) for r in X_rm]\n",
    "        \n",
    "        current_loss = loss(y, price_by_k_and_b)\n",
    "    \n",
    "        if current_loss < min_loss: # performance became better\n",
    "            min_loss = current_loss\n",
    "            \n",
    "            if i % 50 == 0: \n",
    "                print('When time is : {}, get best_k: {} best_b: {}, and the loss is: {}'.format(i, current_k, current_b, min_loss))\n",
    "    \n",
    "        k_gradient = gradient_k(X_rm, y, price_by_k_and_b)\n",
    "        \n",
    "        b_gradient = gradient_b(X_rm, y, price_by_k_and_b)\n",
    "        \n",
    "        current_k = current_k + (-1 * k_gradient) * learning_rate\n",
    "    \n",
    "        current_b = current_b + (-1 * b_gradient) * learning_rate"
   ]
  },
  {
   "cell_type": "code",
   "execution_count": 55,
   "metadata": {},
   "outputs": [
    {
     "name": "stdout",
     "output_type": "stream",
     "text": [
      "When time is : 0, get best_k: -89.07932728572396 best_b: -63.85681907041045, and the loss is: 422394.0837713476\n",
      "When time is : 50, get best_k: -55.24949308660885 best_b: -58.53694428840651, and the loss is: 185518.47869406568\n",
      "When time is : 100, get best_k: -32.83118642796863 best_b: -55.01101968741932, and the loss is: 81495.44285462264\n",
      "When time is : 150, get best_k: -17.97508353318662 best_b: -52.67391205487355, and the loss is: 35814.11563883469\n",
      "When time is : 200, get best_k: -8.13031023680494 best_b: -51.12461103980126, and the loss is: 15753.331440467022\n",
      "When time is : 250, get best_k: -1.6064504071575094 best_b: -50.097374656399694, and the loss is: 6943.712831783223\n",
      "When time is : 300, get best_k: 2.7167027997036155 best_b: -49.41610070967808, and the loss is: 3075.001488080011\n",
      "When time is : 350, get best_k: 5.581489302169006 best_b: -48.964089601010365, and the loss is: 1376.0710801382352\n",
      "When time is : 400, get best_k: 7.4798437437492495 best_b: -48.66400671045805, and the loss is: 629.9918505136699\n",
      "When time is : 450, get best_k: 8.737761921639585 best_b: -48.4646038459815, and the loss is: 302.3536501855711\n",
      "When time is : 500, get best_k: 9.571275093631414 best_b: -48.33191979862108, and the loss is: 158.47226206635227\n",
      "When time is : 550, get best_k: 10.123543094128493 best_b: -48.24344911660907, and the loss is: 95.28699045077757\n",
      "When time is : 600, get best_k: 10.489435241561663 best_b: -48.18427786210657, and the loss is: 67.53911649076211\n",
      "When time is : 650, get best_k: 10.731819641478504 best_b: -48.144522850175925, and the loss is: 55.35344317007852\n",
      "When time is : 700, get best_k: 10.89235780004852 best_b: -48.117634680812635, and the loss is: 50.001852095446736\n",
      "When time is : 750, get best_k: 10.9986580105576 best_b: -48.09927319032286, and the loss is: 47.65142273656396\n",
      "When time is : 800, get best_k: 11.069015767533491 best_b: -48.08656223419061, and the loss is: 46.61894238597971\n",
      "When time is : 850, get best_k: 11.115555149655643 best_b: -48.07759584575825, and the loss is: 46.16523448207217\n",
      "When time is : 900, get best_k: 11.146310554878966 best_b: -48.0711109769116, and the loss is: 45.96569240391389\n",
      "When time is : 950, get best_k: 11.1666062269831 best_b: -48.066270629512374, and the loss is: 45.87776636864123\n",
      "When time is : 1000, get best_k: 11.179970441761794 best_b: -48.06252014069469, and the loss is: 45.838856172538286\n",
      "When time is : 1050, get best_k: 11.188741320944583 best_b: -48.059491945845245, and the loss is: 45.82147117038669\n",
      "When time is : 1100, get best_k: 11.194468293640822 best_b: -48.05694246682912, and the loss is: 45.813538948196445\n",
      "When time is : 1150, get best_k: 11.19817813725634 best_b: -48.05471028900882, and the loss is: 45.8097579505235\n",
      "When time is : 1200, get best_k: 11.200551277784218 best_b: -48.052688445944824, and the loss is: 45.80780001911691\n",
      "When time is : 1250, get best_k: 11.202038620677799 best_b: -48.05080605299014, and the loss is: 45.806642751975936\n",
      "When time is : 1300, get best_k: 11.202938972463633 best_b: -48.04901613622005, and the loss is: 45.80583716507048\n",
      "When time is : 1350, get best_k: 11.203450346582128 best_b: -48.04728756689405, and the loss is: 45.80518608872707\n",
      "When time is : 1400, get best_k: 11.203703962799185 best_b: -48.04559971657586, and the loss is: 45.80460293660395\n",
      "When time is : 1450, get best_k: 11.203786777974118 best_b: -48.04393891518256, and the loss is: 45.80404968461623\n",
      "When time is : 1500, get best_k: 11.203756416774018 best_b: -48.0422961038005, and the loss is: 45.80350963461189\n",
      "When time is : 1550, get best_k: 11.2036510659762 best_b: -48.04066527925087, and the loss is: 45.802975453643036\n",
      "When time is : 1600, get best_k: 11.20349603123552 best_b: -48.03904246333261, and the loss is: 45.80244392145561\n",
      "When time is : 1650, get best_k: 11.20330808213029 best_b: -48.0374250197592, and the loss is: 45.801913623870114\n",
      "When time is : 1700, get best_k: 11.2030983315421 best_b: -48.03581120150547, and the loss is: 45.801383939837706\n",
      "When time is : 1750, get best_k: 11.202874143766454 best_b: -48.03419985084304, and the loss is: 45.80085459660981\n",
      "When time is : 1800, get best_k: 11.202640398981671 best_b: -48.032590200559355, and the loss is: 45.800325474392885\n",
      "When time is : 1850, get best_k: 11.202400331188516 best_b: -48.03098174222929, and the loss is: 45.79979652056291\n",
      "When time is : 1900, get best_k: 11.202156083496991 best_b: -48.02937413892126, and the loss is: 45.79926771199297\n",
      "When time is : 1950, get best_k: 11.201909076104378 best_b: -48.0277671673493, and the loss is: 45.79873903851003\n"
     ]
    }
   ],
   "source": [
    "gredient_descend(2000)"
   ]
  },
  {
   "cell_type": "code",
   "execution_count": 57,
   "metadata": {},
   "outputs": [
    {
     "data": {
      "text/plain": [
       "<matplotlib.collections.PathCollection at 0x2c593748eb8>"
      ]
     },
     "execution_count": 57,
     "metadata": {},
     "output_type": "execute_result"
    },
    {
     "data": {
      "image/png": "[encoded data removed]",
      "text/plain": [
       "<Figure size 432x288 with 1 Axes>"
      ]
     },
     "metadata": {},
     "output_type": "display_data"
    }
   ],
   "source": [
    "k = 11.201909076104378\n",
    "b = -48.0277671673493\n",
    "y_random_k_and_b = [price(r,k,b) for r in X_rm]\n",
    "plt.scatter(X[:,5],y)\n",
    "plt.scatter(X[:,5],y_random_k_and_b)"
   ]
  },
  {
   "cell_type": "markdown",
   "metadata": {},
   "source": [
    "##### 4. Try different Loss function and learning rate."
   ]
  },
  {
   "cell_type": "code",
   "execution_count": 58,
   "metadata": {},
   "outputs": [],
   "source": [
    "# 定义L1 loss函数\n",
    "def L1_loss(y,y_hat):\n",
    "    return sum(abs(y_i-y_hat_i) for y_i,y_hat_i in zip(list(y),list(y_hat))) / len(list(y))"
   ]
  },
  {
   "cell_type": "code",
   "execution_count": 59,
   "metadata": {},
   "outputs": [],
   "source": [
    "def gredient_descend_L1(times):\n",
    "    \n",
    "    min_loss = float('inf')\n",
    "    current_k = random.random()*200 - 100\n",
    "    current_b = random.random()*200 - 100\n",
    "    learning_rate = 1e-04 # 学习率\n",
    "    for i in range(times):\n",
    "    \n",
    "        price_by_k_and_b  = [price(r, current_k, current_b) for r in X_rm]\n",
    "        \n",
    "        current_loss = L1_loss(y, price_by_k_and_b)\n",
    "    \n",
    "        if current_loss < min_loss: # performance became better\n",
    "            min_loss = current_loss\n",
    "            \n",
    "            if i % 50 == 0: \n",
    "                print('When time is : {}, get best_k: {} best_b: {}, and the loss is: {}'.format(i, current_k, current_b, min_loss))\n",
    "    \n",
    "        k_gradient = gradient_k(X_rm, y, price_by_k_and_b)\n",
    "        \n",
    "        b_gradient = gradient_b(X_rm, y, price_by_k_and_b)\n",
    "        \n",
    "        current_k = current_k + (-1 * k_gradient) * learning_rate\n",
    "    \n",
    "        current_b = current_b + (-1 * b_gradient) * learning_rate"
   ]
  },
  {
   "cell_type": "code",
   "execution_count": 62,
   "metadata": {},
   "outputs": [
    {
     "name": "stdout",
     "output_type": "stream",
     "text": [
      "When time is : 0, get best_k: 83.73686472033509 best_b: -41.24138972175078, and the loss is: 462.4813834645802\n",
      "When time is : 50, get best_k: 59.508020300644354 best_b: -45.048086257039444, and the loss is: 306.40525812350677\n",
      "When time is : 100, get best_k: 43.45190886732786 best_b: -47.569987998251456, and the loss is: 202.9765663413223\n",
      "When time is : 150, get best_k: 32.81171324121503 best_b: -49.240480582121215, and the loss is: 134.43633443743366\n",
      "When time is : 200, get best_k: 25.76054274504839 best_b: -50.34676048484601, and the loss is: 89.01602596341972\n",
      "When time is : 250, get best_k: 21.087751431077503 best_b: -51.079147386976686, and the loss is: 58.930631414790255\n",
      "When time is : 300, get best_k: 17.991067094921828 best_b: -51.56376254627916, and the loss is: 39.098417577549974\n",
      "When time is : 350, get best_k: 15.938839099069856 best_b: -51.88418413824084, and the loss is: 26.028510914566645\n",
      "When time is : 400, get best_k: 14.578752607205974 best_b: -52.095797841224744, and the loss is: 17.47648565356969\n",
      "When time is : 450, get best_k: 13.677335231392608 best_b: -52.23530669821488, and the loss is: 11.929674821448033\n",
      "When time is : 500, get best_k: 13.07986922968188 best_b: -52.32703312258418, and the loss is: 8.45048043914578\n",
      "When time is : 550, get best_k: 12.68382607660217 best_b: -52.387095118292564, and the loss is: 6.403068626427953\n",
      "When time is : 600, get best_k: 12.421262054754804 best_b: -52.426173782136736, and the loss is: 5.342067597393076\n",
      "When time is : 650, get best_k: 12.247152145855601 best_b: -52.451347275221906, and the loss is: 4.87738633249901\n",
      "When time is : 700, get best_k: 12.131659120663295 best_b: -52.46730616121853, and the loss is: 4.6806116206485875\n",
      "When time is : 750, get best_k: 12.05501041088704 best_b: -52.47715878807085, and the loss is: 4.611306387072095\n",
      "When time is : 800, get best_k: 12.004103108958853 best_b: -52.482964999244444, and the loss is: 4.588668575172707\n",
      "When time is : 850, get best_k: 11.970254165503437 best_b: -52.486089814089695, and the loss is: 4.579715367083455\n"
     ]
    }
   ],
   "source": [
    "gredient_descend_L1(2000)"
   ]
  },
  {
   "cell_type": "code",
   "execution_count": 63,
   "metadata": {},
   "outputs": [
    {
     "data": {
      "text/plain": [
       "<matplotlib.collections.PathCollection at 0x2c5937e7160>"
      ]
     },
     "execution_count": 63,
     "metadata": {},
     "output_type": "execute_result"
    },
    {
     "data": {
      "image/png": "[encoded data removed]",
      "text/plain": [
       "<Figure size 432x288 with 1 Axes>"
      ]
     },
     "metadata": {},
     "output_type": "display_data"
    }
   ],
   "source": [
    "k =11.970254165503437\n",
    "b = -52.486089814089695\n",
    "y_random_k_and_b = [price(r,k,b) for r in X_rm]\n",
    "plt.scatter(X[:,5],y)\n",
    "plt.scatter(X[:,5],y_random_k_and_b)"
   ]
  },
  {
   "cell_type": "markdown",
   "metadata": {},
   "source": [
    "## 2. Answer following questions:\n",
    "\n",
    "\n",
    "###### 1. Why do we need machine learning methods instead of creating a complicated formula?\n"
   ]
  },
  {
   "cell_type": "markdown",
   "metadata": {},
   "source": [
    "Ans：机器学习方法可以根据数据的特征，自动求得最优的方法，求得最优解"
   ]
  },
  {
   "cell_type": "markdown",
   "metadata": {},
   "source": [
    "##### 2. Wha't's the disadvantages of the 1st Random Choosen methods in our course?"
   ]
  },
  {
   "cell_type": "markdown",
   "metadata": {},
   "source": [
    "Ans:随机选择参数，需要经过多次迭代，耗费时间和资源，不能快速达到最优解"
   ]
  },
  {
   "cell_type": "markdown",
   "metadata": {},
   "source": [
    "##### 3. Is the 2nd method supervised direction better than 1st one? What's the disadvantages of the 2nd supversied directin method?"
   ]
  },
  {
   "cell_type": "markdown",
   "metadata": {},
   "source": [
    "Ans:第二种方法容易陷入局部最优解，非全局最优解，因此需要使用更小的学习率，来防止局部最优解"
   ]
  },
  {
   "cell_type": "markdown",
   "metadata": {},
   "source": [
    "##### 4. Why do we use Derivative / Gredient to fit a target function?"
   ]
  },
  {
   "cell_type": "markdown",
   "metadata": {},
   "source": [
    "Ans:要使得目标函数值最小，由于目标函数时凸函数，需要对参数求导，使得目标函数沿着梯度下降的方向进行"
   ]
  },
  {
   "cell_type": "markdown",
   "metadata": {},
   "source": [
    "##### 5. In the words 'Gredient Descent', what's the Gredient and what's the Descent?"
   ]
  },
  {
   "cell_type": "markdown",
   "metadata": {},
   "source": [
    "Ans:梯度是指函数上升的方向，函数值增大，下降是指梯度上升的反方向"
   ]
  },
  {
   "cell_type": "markdown",
   "metadata": {},
   "source": [
    "##### 6. What's the advantages of the 3rd gradient descent method compared to the previous methods?"
   ]
  },
  {
   "cell_type": "markdown",
   "metadata": {},
   "source": [
    "Ans:可以使得目标函数快速达到最优解，速度快"
   ]
  },
  {
   "cell_type": "markdown",
   "metadata": {},
   "source": [
    "##### 7. Using the simple words to describe: What's the machine leanring."
   ]
  },
  {
   "cell_type": "markdown",
   "metadata": {},
   "source": [
    "Ans:机器学习是关于在计算机上从数据中生成相关模型的算法，在面对新的数据，模型能够根据特征自动判断数据的归类或者预测值"
   ]
  },
  {
   "cell_type": "markdown",
   "metadata": {},
   "source": [
    "# 北京地铁站数据"
   ]
  },
  {
   "cell_type": "code",
   "execution_count": 6,
   "metadata": {},
   "outputs": [],
   "source": [
    "import re\n",
    "import requests\n",
    "from bs4 import BeautifulSoup"
   ]
  },
  {
   "cell_type": "code",
   "execution_count": 7,
   "metadata": {},
   "outputs": [],
   "source": [
    "url = 'http://www.bjsubway.com/station/zjgls/#'   # 地铁官网提取数据\n",
    "headers = {'User_Agent':'Mozilla/5.0 (Windows NT 10.0; Win64; x64; rv:68.0) Gecko/20100101 Firefox/68.0'}\n",
    "data = requests.get(url,headers=headers).content.decode('gb2312')\n",
    "#print(data)"
   ]
  },
  {
   "cell_type": "code",
   "execution_count": 8,
   "metadata": {},
   "outputs": [
    {
     "data": {
      "text/plain": [
       "\"\\n# Beatutifulsoup 提取数据,会缺失数据\\nbs4_data = BeautifulSoup(data,'lxml') \\nprint(bs4_data)\\n取出所有的站点信息\\n\\nstation_list = bs4_data.select('.line_place')  # class选择器\\nprint(station_list)\\n取出每条线路的站点信息\\nfor station in station_list:\\n    #print(type(station))\\n    station = str(station)\\n    print(station)\\n    station_dict = {}\\n    pattern_line_name = re.compile(r'<td colspan=.*?>(.*?)</td>')\\n    station_dict['line_name'] = pattern_line_name.findall(station)\\n    print(station_dict)\\n\""
      ]
     },
     "execution_count": 8,
     "metadata": {},
     "output_type": "execute_result"
    }
   ],
   "source": [
    "'''\n",
    "# Beatutifulsoup 提取数据,会缺失数据\n",
    "bs4_data = BeautifulSoup(data,'lxml') \n",
    "print(bs4_data)\n",
    "取出所有的站点信息\n",
    "\n",
    "station_list = bs4_data.select('.line_place')  # class选择器\n",
    "print(station_list)\n",
    "取出每条线路的站点信息\n",
    "for station in station_list:\n",
    "    #print(type(station))\n",
    "    station = str(station)\n",
    "    print(station)\n",
    "    station_dict = {}\n",
    "    pattern_line_name = re.compile(r'<td colspan=.*?>(.*?)</td>')\n",
    "    station_dict['line_name'] = pattern_line_name.findall(station)\n",
    "    print(station_dict)\n",
    "'''"
   ]
  },
  {
   "cell_type": "code",
   "execution_count": 9,
   "metadata": {},
   "outputs": [
    {
     "data": {
      "text/plain": [
       "\"\\n# 正则表达式解析数据\\nstation_dict = {}\\nline_name = re.compile(r'<td colspan=.*?>(.*?)</td>')   # 线路名称\\nstation_dict['line_name'] = line_name.findall(data)\\n\\nstation_name = re.compile('<th>(.*?)</th>')\\nstation_distance = re.compile('<td>(.*?)</td>')\\nstation_dict['station_name'] = station_name.findall(data)\\nstation_dict['station_distance'] = station_distance.findall(data.replace('上行/下行',''))\\nprint(station_dict)\\n\""
      ]
     },
     "execution_count": 9,
     "metadata": {},
     "output_type": "execute_result"
    }
   ],
   "source": [
    "'''\n",
    "# 正则表达式解析数据\n",
    "station_dict = {}\n",
    "line_name = re.compile(r'<td colspan=.*?>(.*?)</td>')   # 线路名称\n",
    "station_dict['line_name'] = line_name.findall(data)\n",
    "\n",
    "station_name = re.compile('<th>(.*?)</th>')\n",
    "station_distance = re.compile('<td>(.*?)</td>')\n",
    "station_dict['station_name'] = station_name.findall(data)\n",
    "station_dict['station_distance'] = station_distance.findall(data.replace('上行/下行',''))\n",
    "print(station_dict)\n",
    "'''"
   ]
  },
  {
   "cell_type": "code",
   "execution_count": 10,
   "metadata": {},
   "outputs": [],
   "source": [
    "# xpath解析数据\n",
    "from lxml import etree\n",
    "parse_data = etree.HTML(data)\n",
    "station_list = parse_data.xpath('..//div[@class=\"line_content\"]')\n",
    "for station in station_list:\n",
    "    #station_xpath = station.xpath('')\n",
    "    station_dict = {}\n",
    "    #station_dict['line_name'] = station.xpath('.//td[contains(@colspan,'\"5\"') or contains(@colspan,'\"6\"') or contains(@colspan,'\"7\"')]/text()')# 线路名称\n",
    "    station_dict['station_name'] = station.xpath('.//div[@class=\"con_text\"]//tbody//tr/th/text()')  # 站点名称\n",
    "    station_dict['station_distance'] = station.xpath('.//div[@class=\"con_text\"]//tbody//tr/td[1]/text()')   # 站点之间的距离\n",
    "    # print(station_dict)\n"
   ]
  },
  {
   "cell_type": "code",
   "execution_count": 11,
   "metadata": {},
   "outputs": [
    {
     "data": {
      "text/plain": [
       "330"
      ]
     },
     "execution_count": 11,
     "metadata": {},
     "output_type": "execute_result"
    }
   ],
   "source": [
    "len(station_dict['station_distance'])"
   ]
  },
  {
   "cell_type": "code",
   "execution_count": 12,
   "metadata": {},
   "outputs": [
    {
     "data": {
      "text/plain": [
       "330"
      ]
     },
     "execution_count": 12,
     "metadata": {},
     "output_type": "execute_result"
    }
   ],
   "source": [
    "len(station_dict['station_name'])"
   ]
  },
  {
   "cell_type": "code",
   "execution_count": 13,
   "metadata": {},
   "outputs": [],
   "source": [
    "import pandas as pd\n",
    "df = pd.DataFrame(station_dict)"
   ]
  },
  {
   "cell_type": "code",
   "execution_count": 14,
   "metadata": {},
   "outputs": [
    {
     "data": {
      "text/html": [
       "<div>\n",
       "<style scoped>\n",
       "    .dataframe tbody tr th:only-of-type {\n",
       "        vertical-align: middle;\n",
       "    }\n",
       "\n",
       "    .dataframe tbody tr th {\n",
       "        vertical-align: top;\n",
       "    }\n",
       "\n",
       "    .dataframe thead th {\n",
       "        text-align: right;\n",
       "    }\n",
       "</style>\n",
       "<table border=\"1\" class=\"dataframe\">\n",
       "  <thead>\n",
       "    <tr style=\"text-align: right;\">\n",
       "      <th></th>\n",
       "      <th>station_name</th>\n",
       "      <th>station_distance</th>\n",
       "    </tr>\n",
       "  </thead>\n",
       "  <tbody>\n",
       "    <tr>\n",
       "      <th>0</th>\n",
       "      <td>苹果园――古城</td>\n",
       "      <td>2606</td>\n",
       "    </tr>\n",
       "    <tr>\n",
       "      <th>1</th>\n",
       "      <td>古城――八角游乐园</td>\n",
       "      <td>1921</td>\n",
       "    </tr>\n",
       "    <tr>\n",
       "      <th>2</th>\n",
       "      <td>八角游乐园――八宝山</td>\n",
       "      <td>1953</td>\n",
       "    </tr>\n",
       "    <tr>\n",
       "      <th>3</th>\n",
       "      <td>八宝山――玉泉路</td>\n",
       "      <td>1479</td>\n",
       "    </tr>\n",
       "    <tr>\n",
       "      <th>4</th>\n",
       "      <td>玉泉路――五棵松</td>\n",
       "      <td>1810</td>\n",
       "    </tr>\n",
       "  </tbody>\n",
       "</table>\n",
       "</div>"
      ],
      "text/plain": [
       "  station_name station_distance\n",
       "0      苹果园――古城             2606\n",
       "1    古城――八角游乐园             1921\n",
       "2   八角游乐园――八宝山             1953\n",
       "3     八宝山――玉泉路             1479\n",
       "4     玉泉路――五棵松             1810"
      ]
     },
     "execution_count": 14,
     "metadata": {},
     "output_type": "execute_result"
    }
   ],
   "source": [
    "df.head()"
   ]
  },
  {
   "cell_type": "code",
   "execution_count": 15,
   "metadata": {},
   "outputs": [],
   "source": [
    "site = []\n",
    "for i in df['station_name']:\n",
    "    site.append(i.split('――'))"
   ]
  },
  {
   "cell_type": "code",
   "execution_count": 39,
   "metadata": {},
   "outputs": [],
   "source": [
    "data_list = []"
   ]
  },
  {
   "cell_type": "code",
   "execution_count": 67,
   "metadata": {},
   "outputs": [],
   "source": [
    "#  利用百度地图api获取地铁站点的经纬度\n",
    "import requests\n",
    "import time\n",
    "import random\n",
    "import csv\n",
    "import sys\n",
    "ty = sys.getfilesystemencoding()  # 解决中文\n",
    "base_url = 'http://api.map.baidu.com/geocoder?address={}&output=json&ak=XhPWCSMj7PhZFClQedRf9YzoROu1ydPx&city=%E5%8C%97%E4%BA%AC%E5%B8%82'\n",
    "headers = {'User-Agent':'Mozilla/5.0 (Windows NT 10.0; Win64; x64; rv:64.0) Gecko/20100101 Firefox/64.0'}\n",
    "site_list = []\n",
    "for i in range(len(site)):\n",
    "    for j in range(len(site[i])):\n",
    "        if not site[i][j] in site_list:\n",
    "            site_list.append(site[i][j])\n",
    "\n",
    "  \n",
    "            "
   ]
  },
  {
   "cell_type": "code",
   "execution_count": 68,
   "metadata": {},
   "outputs": [
    {
     "data": {
      "text/plain": [
       "['苹果园', '古城', '八角游乐园', '八宝山', '玉泉路']"
      ]
     },
     "execution_count": 68,
     "metadata": {},
     "output_type": "execute_result"
    }
   ],
   "source": [
    "site_list[:5]"
   ]
  },
  {
   "cell_type": "code",
   "execution_count": 75,
   "metadata": {},
   "outputs": [
    {
     "data": {
      "text/plain": [
       "288"
      ]
     },
     "execution_count": 75,
     "metadata": {},
     "output_type": "execute_result"
    }
   ],
   "source": [
    "len(site_list)"
   ]
  },
  {
   "cell_type": "code",
   "execution_count": 69,
   "metadata": {},
   "outputs": [
    {
     "name": "stdout",
     "output_type": "stream",
     "text": [
      "http://api.map.baidu.com/geocoder?address=苹果园&output=json&ak=XhPWCSMj7PhZFClQedRf9YzoROu1ydPx&city=%E5%8C%97%E4%BA%AC%E5%B8%82\n",
      "http://api.map.baidu.com/geocoder?address=南礼士路&output=json&ak=XhPWCSMj7PhZFClQedRf9YzoROu1ydPx&city=%E5%8C%97%E4%BA%AC%E5%B8%82\n",
      "http://api.map.baidu.com/geocoder?address=大望路&output=json&ak=XhPWCSMj7PhZFClQedRf9YzoROu1ydPx&city=%E5%8C%97%E4%BA%AC%E5%B8%82\n",
      "http://api.map.baidu.com/geocoder?address=崇文门&output=json&ak=XhPWCSMj7PhZFClQedRf9YzoROu1ydPx&city=%E5%8C%97%E4%BA%AC%E5%B8%82\n",
      "http://api.map.baidu.com/geocoder?address=北宫门&output=json&ak=XhPWCSMj7PhZFClQedRf9YzoROu1ydPx&city=%E5%8C%97%E4%BA%AC%E5%B8%82\n",
      "http://api.map.baidu.com/geocoder?address=动物园&output=json&ak=XhPWCSMj7PhZFClQedRf9YzoROu1ydPx&city=%E5%8C%97%E4%BA%AC%E5%B8%82 无数据\n",
      "http://api.map.baidu.com/geocoder?address=新街口&output=json&ak=XhPWCSMj7PhZFClQedRf9YzoROu1ydPx&city=%E5%8C%97%E4%BA%AC%E5%B8%82\n",
      "http://api.map.baidu.com/geocoder?address=天通苑北&output=json&ak=XhPWCSMj7PhZFClQedRf9YzoROu1ydPx&city=%E5%8C%97%E4%BA%AC%E5%B8%82\n",
      "http://api.map.baidu.com/geocoder?address=和平里北街&output=json&ak=XhPWCSMj7PhZFClQedRf9YzoROu1ydPx&city=%E5%8C%97%E4%BA%AC%E5%B8%82\n",
      "http://api.map.baidu.com/geocoder?address=海淀五路居&output=json&ak=XhPWCSMj7PhZFClQedRf9YzoROu1ydPx&city=%E5%8C%97%E4%BA%AC%E5%B8%82\n",
      "http://api.map.baidu.com/geocoder?address=十里堡&output=json&ak=XhPWCSMj7PhZFClQedRf9YzoROu1ydPx&city=%E5%8C%97%E4%BA%AC%E5%B8%82\n",
      "http://api.map.baidu.com/geocoder?address=草房&output=json&ak=XhPWCSMj7PhZFClQedRf9YzoROu1ydPx&city=%E5%8C%97%E4%BA%AC%E5%B8%82 无数据\n",
      "http://api.map.baidu.com/geocoder?address=通运门&output=json&ak=XhPWCSMj7PhZFClQedRf9YzoROu1ydPx&city=%E5%8C%97%E4%BA%AC%E5%B8%82 无数据\n",
      "http://api.map.baidu.com/geocoder?address=北运河东&output=json&ak=XhPWCSMj7PhZFClQedRf9YzoROu1ydPx&city=%E5%8C%97%E4%BA%AC%E5%B8%82\n",
      "http://api.map.baidu.com/geocoder?address=潞城&output=json&ak=XhPWCSMj7PhZFClQedRf9YzoROu1ydPx&city=%E5%8C%97%E4%BA%AC%E5%B8%82 无数据\n",
      "http://api.map.baidu.com/geocoder?address=桥湾&output=json&ak=XhPWCSMj7PhZFClQedRf9YzoROu1ydPx&city=%E5%8C%97%E4%BA%AC%E5%B8%82\n",
      "http://api.map.baidu.com/geocoder?address=化工&output=json&ak=XhPWCSMj7PhZFClQedRf9YzoROu1ydPx&city=%E5%8C%97%E4%BA%AC%E5%B8%82 无数据\n",
      "http://api.map.baidu.com/geocoder?address=垡头&output=json&ak=XhPWCSMj7PhZFClQedRf9YzoROu1ydPx&city=%E5%8C%97%E4%BA%AC%E5%B8%82\n",
      "http://api.map.baidu.com/geocoder?address=双合&output=json&ak=XhPWCSMj7PhZFClQedRf9YzoROu1ydPx&city=%E5%8C%97%E4%BA%AC%E5%B8%82 无数据\n",
      "http://api.map.baidu.com/geocoder?address=育新&output=json&ak=XhPWCSMj7PhZFClQedRf9YzoROu1ydPx&city=%E5%8C%97%E4%BA%AC%E5%B8%82 无数据\n",
      "http://api.map.baidu.com/geocoder?address=永泰庄&output=json&ak=XhPWCSMj7PhZFClQedRf9YzoROu1ydPx&city=%E5%8C%97%E4%BA%AC%E5%B8%82\n",
      "http://api.map.baidu.com/geocoder?address=六里桥东&output=json&ak=XhPWCSMj7PhZFClQedRf9YzoROu1ydPx&city=%E5%8C%97%E4%BA%AC%E5%B8%82\n",
      "http://api.map.baidu.com/geocoder?address=知春里&output=json&ak=XhPWCSMj7PhZFClQedRf9YzoROu1ydPx&city=%E5%8C%97%E4%BA%AC%E5%B8%82\n",
      "http://api.map.baidu.com/geocoder?address=农业展览馆&output=json&ak=XhPWCSMj7PhZFClQedRf9YzoROu1ydPx&city=%E5%8C%97%E4%BA%AC%E5%B8%82\n",
      "http://api.map.baidu.com/geocoder?address=角门东&output=json&ak=XhPWCSMj7PhZFClQedRf9YzoROu1ydPx&city=%E5%8C%97%E4%BA%AC%E5%B8%82\n",
      "http://api.map.baidu.com/geocoder?address=首经贸&output=json&ak=XhPWCSMj7PhZFClQedRf9YzoROu1ydPx&city=%E5%8C%97%E4%BA%AC%E5%B8%82 无数据\n",
      "http://api.map.baidu.com/geocoder?address=泥洼&output=json&ak=XhPWCSMj7PhZFClQedRf9YzoROu1ydPx&city=%E5%8C%97%E4%BA%AC%E5%B8%82 无数据\n",
      "http://api.map.baidu.com/geocoder?address=长春桥&output=json&ak=XhPWCSMj7PhZFClQedRf9YzoROu1ydPx&city=%E5%8C%97%E4%BA%AC%E5%B8%82\n",
      "http://api.map.baidu.com/geocoder?address=光熙门&output=json&ak=XhPWCSMj7PhZFClQedRf9YzoROu1ydPx&city=%E5%8C%97%E4%BA%AC%E5%B8%82\n",
      "http://api.map.baidu.com/geocoder?address=方庄&output=json&ak=XhPWCSMj7PhZFClQedRf9YzoROu1ydPx&city=%E5%8C%97%E4%BA%AC%E5%B8%82\n",
      "http://api.map.baidu.com/geocoder?address=枣营&output=json&ak=XhPWCSMj7PhZFClQedRf9YzoROu1ydPx&city=%E5%8C%97%E4%BA%AC%E5%B8%82 无数据\n",
      "http://api.map.baidu.com/geocoder?address=望京南&output=json&ak=XhPWCSMj7PhZFClQedRf9YzoROu1ydPx&city=%E5%8C%97%E4%BA%AC%E5%B8%82\n",
      "http://api.map.baidu.com/geocoder?address=阜通&output=json&ak=XhPWCSMj7PhZFClQedRf9YzoROu1ydPx&city=%E5%8C%97%E4%BA%AC%E5%B8%82 无数据\n",
      "http://api.map.baidu.com/geocoder?address=关庄&output=json&ak=XhPWCSMj7PhZFClQedRf9YzoROu1ydPx&city=%E5%8C%97%E4%BA%AC%E5%B8%82\n",
      "http://api.map.baidu.com/geocoder?address=顺义&output=json&ak=XhPWCSMj7PhZFClQedRf9YzoROu1ydPx&city=%E5%8C%97%E4%BA%AC%E5%B8%82\n",
      "http://api.map.baidu.com/geocoder?address=梨园&output=json&ak=XhPWCSMj7PhZFClQedRf9YzoROu1ydPx&city=%E5%8C%97%E4%BA%AC%E5%B8%82\n",
      "http://api.map.baidu.com/geocoder?address=沙河&output=json&ak=XhPWCSMj7PhZFClQedRf9YzoROu1ydPx&city=%E5%8C%97%E4%BA%AC%E5%B8%82\n",
      "http://api.map.baidu.com/geocoder?address=荣昌东街&output=json&ak=XhPWCSMj7PhZFClQedRf9YzoROu1ydPx&city=%E5%8C%97%E4%BA%AC%E5%B8%82\n",
      "http://api.map.baidu.com/geocoder?address=清源路&output=json&ak=XhPWCSMj7PhZFClQedRf9YzoROu1ydPx&city=%E5%8C%97%E4%BA%AC%E5%B8%82\n",
      "http://api.map.baidu.com/geocoder?address=广阳城&output=json&ak=XhPWCSMj7PhZFClQedRf9YzoROu1ydPx&city=%E5%8C%97%E4%BA%AC%E5%B8%82\n",
      "http://api.map.baidu.com/geocoder?address=广阳城&output=json&ak=XhPWCSMj7PhZFClQedRf9YzoROu1ydPx&city=%E5%8C%97%E4%BA%AC%E5%B8%82 无数据\n"
     ]
    }
   ],
   "source": [
    "# 获取数据\n",
    "data_list=[]\n",
    "for i in range(len(site_list)):\n",
    "    time.sleep(1)\n",
    "    url = base_url.format(site_list[i])\n",
    "    if i % 10 ==0:\n",
    "        print(url)\n",
    "    time.sleep(1.3)\n",
    "    html = requests.get(url, headers=headers)  # 获取网页信息\n",
    "    data_json = html.json()  # 获取网页信息的json格式数据\n",
    "    #print(data_json)    \n",
    "    if data_json[\"status\"] == \"OK\":\n",
    "        if len(data_json['result']) > 0:\n",
    "            data_dict = {}\n",
    "            data_dict['name'] = site_list[i]\n",
    "            data_dict['lng'] = data_json['result']['location']['lng']\n",
    "            data_dict['lat'] = data_json['result']['location']['lat']\n",
    "            data_list.append(data_dict)\n",
    "            # print(self.data_list)\n",
    "        else:\n",
    "            print('%s 无数据'%url)\n",
    "    else:continue"
   ]
  },
  {
   "cell_type": "code",
   "execution_count": 70,
   "metadata": {},
   "outputs": [
    {
     "data": {
      "text/plain": [
       "[{'name': '苹果园', 'lng': 116.189634, 'lat': 39.934641},\n",
       " {'name': '古城', 'lng': 100.23248, 'lat': 26.883162},\n",
       " {'name': '八角游乐园', 'lng': 116.218842, 'lat': 39.913065},\n",
       " {'name': '八宝山', 'lng': 116.243273, 'lat': 39.920912},\n",
       " {'name': '玉泉路', 'lng': 116.259636, 'lat': 39.921884}]"
      ]
     },
     "execution_count": 70,
     "metadata": {},
     "output_type": "execute_result"
    }
   ],
   "source": [
    "data_list[:5]"
   ]
  },
  {
   "cell_type": "code",
   "execution_count": 82,
   "metadata": {},
   "outputs": [],
   "source": [
    "# 针对无数据的手动添加\n",
    "data_list.extend([{'name': '通运门', 'lng': 116.680444, 'lat': 39.897391},{'name': '潞城', 'lng': 116.754799, 'lat': 39.90889},\n",
    "                 {'name': '化工', 'lng': 116.510091, 'lat': 39.893222},{'name': '广阳城', 'lng':116.191395, 'lat':39.754016}\n",
    "                 {'name': '双合', 'lng': 116.533265, 'lat': 39.866414},{'name': '育新', 'lng': 116.353997, 'lat': 40.066124},\n",
    "                 {'name': '首经贸', 'lng': 116.326613, 'lat': 39.85032},{'name': '泥洼', 'lng': 116.310813, 'lat': 39.8647},\n",
    "                 {'name': '枣营', 'lng': 116.48155, 'lat':39.950188},{'name': '阜通', 'lng':116.477642, 'lat': 39.997887},\n",
    "                 ])"
   ]
  },
  {
   "cell_type": "code",
   "execution_count": 93,
   "metadata": {},
   "outputs": [
    {
     "data": {
      "text/plain": [
       "288"
      ]
     },
     "execution_count": 93,
     "metadata": {},
     "output_type": "execute_result"
    }
   ],
   "source": [
    "len(data_list)"
   ]
  },
  {
   "cell_type": "code",
   "execution_count": 99,
   "metadata": {},
   "outputs": [
    {
     "data": {
      "text/plain": [
       "'苹果园'"
      ]
     },
     "execution_count": 99,
     "metadata": {},
     "output_type": "execute_result"
    }
   ],
   "source": [
    "data_list[0]['name']"
   ]
  },
  {
   "cell_type": "code",
   "execution_count": 174,
   "metadata": {},
   "outputs": [],
   "source": [
    "# 根据经纬度画出地铁站点线路图\n",
    "station_location ={}\n",
    "for i in range(len(data_list)):\n",
    "    #print(data_list[i])\n",
    "    city,lng,lat = data_list[i]['name'],data_list[i]['lng'],data_list[i]['lat']\n",
    "    lng,lat = float(lng),float(lat)\n",
    "    station_location[city] = (lng,lat)"
   ]
  },
  {
   "cell_type": "code",
   "execution_count": 200,
   "metadata": {},
   "outputs": [
    {
     "data": {
      "text/plain": [
       "{'苹果园': (116.189634, 39.934641),\n",
       " '古城': (116.197072, 39.913414),\n",
       " '八角游乐园': (116.218842, 39.913065),\n",
       " '八宝山': (116.243273, 39.920912),\n",
       " '玉泉路': (116.259636, 39.921884),\n",
       " '五棵松': (116.282178, 39.941871),\n",
       " '万寿路': (116.301316, 39.916633),\n",
       " '公主坟': (116.194292, 39.810747),\n",
       " '军事博物馆': (116.330782, 39.915601),\n",
       " '木樨地': (116.340494, 39.914067),\n",
       " '南礼士路': (116.360047, 39.921459),\n",
       " '复兴门': (116.359854, 39.913661),\n",
       " '西单': (116.379282, 39.916798),\n",
       " '天安门西': (116.397014, 39.913675),\n",
       " '天安门东': (116.40726, 39.914107),\n",
       " '王府井': (116.467388, 39.887659),\n",
       " '东单': (116.424934, 39.914785),\n",
       " '建国门': (116.442268, 39.91453),\n",
       " '永安里': (116.459056, 39.910516),\n",
       " '国贸': (116.467831, 39.9188),\n",
       " '大望路': (116.481599, 39.921828),\n",
       " '四惠': (116.514631, 39.911666),\n",
       " '四惠东': (116.522522, 39.91424),\n",
       " '西直门': (116.359764, 39.94746),\n",
       " '车公庄': (116.360669, 39.94044),\n",
       " '阜成门': (116.361681, 39.929361),\n",
       " '长椿街': (116.370073, 39.902824),\n",
       " '宣武门': (116.381491, 39.902996),\n",
       " '和平门': (116.392749, 39.906933),\n",
       " '前门': (116.407808, 39.907456),\n",
       " '崇文门': (116.428209, 39.907086),\n",
       " '北京站': (116.426105, 39.908479),\n",
       " '朝阳门': (116.440191, 39.929785),\n",
       " '东四十条': (116.432567, 39.939804),\n",
       " '东直门': (116.44965, 39.937162),\n",
       " '雍和宫': (116.423785, 39.953237),\n",
       " '安定门': (116.413076, 39.96707),\n",
       " '鼓楼大街': (116.401304, 39.959605),\n",
       " '积水潭': (116.381024, 39.951854),\n",
       " '安河桥北': (116.276563, 40.019218),\n",
       " '北宫门': (116.281372, 40.009166),\n",
       " '西苑': (116.292194, 40.002159),\n",
       " '圆明园': (116.303374, 40.015009),\n",
       " '北京大学东门': (116.322123, 39.997986),\n",
       " '中关村': (116.344895, 39.98727),\n",
       " '海淀黄庄': (116.323948, 39.982301),\n",
       " '人民大学': (116.327792, 39.973539),\n",
       " '魏公村': (116.328927, 39.96029),\n",
       " '国家图书馆': (116.330736, 39.948999),\n",
       " '新街口': (116.376298, 39.951552),\n",
       " '平安里': (116.375904, 39.93743),\n",
       " '西四': (116.375239, 39.931991),\n",
       " '灵境胡同': (116.385402, 39.920665),\n",
       " '菜市口': (116.37963, 39.89629),\n",
       " '陶然亭': (116.38174, 39.884035),\n",
       " '北京南站': (116.384898, 39.871343),\n",
       " '马家堡': (116.384454, 39.848934),\n",
       " '角门西': (116.377657, 39.852308),\n",
       " '公益西桥': (116.376253, 39.837153),\n",
       " '天通苑北': (116.420729, 40.081603),\n",
       " '天通苑': (116.42267, 40.068559),\n",
       " '天通苑南': (116.419493, 40.073084),\n",
       " '立水桥': (116.418465, 40.053024),\n",
       " '立水桥南': (116.41746, 40.050757),\n",
       " '北苑路北': (116.424466, 40.035832),\n",
       " '大屯路东': (116.423816, 40.009929),\n",
       " '惠新西街北口': (116.423663, 39.993785),\n",
       " '惠新西街南口': (116.424023, 39.983317),\n",
       " '和平西桥': (116.426519, 39.975326),\n",
       " '和平里北街': (116.425575, 39.965527),\n",
       " '北新桥': (116.446087, 39.974163),\n",
       " '张自忠路': (116.418395, 39.939625),\n",
       " '东四': (116.429331, 39.934867),\n",
       " '灯市口': (116.421831, 39.925202),\n",
       " '磁器口': (116.426226, 39.898671),\n",
       " '天坛东门': (116.427279, 39.890061),\n",
       " '蒲黄榆': (116.424899, 39.871163),\n",
       " '刘家窑': (116.420749, 39.866428),\n",
       " '宋家庄': (116.434447, 39.849016),\n",
       " '海淀五路居': (116.291067, 39.940997),\n",
       " '慈寿寺': (116.299481, 39.934958),\n",
       " '花园桥': (116.316542, 39.938302),\n",
       " '白石桥南': (116.332443, 39.95194),\n",
       " '车公庄西': (116.332944, 39.936058),\n",
       " '北海北': (116.39289, 39.939493),\n",
       " '南锣鼓巷': (116.409524, 39.942648),\n",
       " '东大桥': (116.45853, 39.929006),\n",
       " '呼家楼': (116.470752, 39.925326),\n",
       " '金台路': (116.484674, 39.92498),\n",
       " '十里堡': (116.509557, 39.921067),\n",
       " '青年路': (116.522719, 39.960801),\n",
       " '褡裢坡': (116.569397, 39.928846),\n",
       " '黄渠': (116.575224, 39.930072),\n",
       " '常营': (116.58837, 39.933995),\n",
       " '物资学院路': (116.645993, 39.928854),\n",
       " '通州北关': (116.660726, 39.925898),\n",
       " '北运河西': (116.754103, 39.873586),\n",
       " '北运河东': (116.754103, 39.873586),\n",
       " '郝家府': (116.725215, 39.907673),\n",
       " '东夏园': (116.749089, 39.903107),\n",
       " '北京西站': (116.327694, 39.903473),\n",
       " '湾子': (116.333131, 39.895712),\n",
       " '达官营': (116.347996, 39.895496),\n",
       " '广安门内': (116.376708, 39.899212),\n",
       " '虎坊桥': (116.393653, 39.894439),\n",
       " '珠市口': (116.406109, 39.897542),\n",
       " '桥湾': (116.415142, 39.899084),\n",
       " '广渠门内': (116.435477, 39.899209),\n",
       " '广渠门外': (116.49167, 39.898773),\n",
       " '双井': (116.45556, 39.904957),\n",
       " '九龙山': (116.054634, 39.958654),\n",
       " '大郊亭': (116.497375, 39.894153),\n",
       " '百子湾': (116.480353, 39.906907),\n",
       " '南楼梓庄': (116.497188, 39.881395),\n",
       " '欢乐谷景区': (116.496648, 39.872999),\n",
       " '垡头': (116.522126, 39.864712),\n",
       " '焦化厂': (116.538157, 39.862384),\n",
       " '朱辛庄': (116.308545, 40.098752),\n",
       " '育知路': (116.335088, 40.084853),\n",
       " '平西府': (116.37599, 40.105565),\n",
       " '回龙观东大街': (116.367616, 40.086892),\n",
       " '霍营': (116.379708, 40.085384),\n",
       " '西小口': (116.355423, 40.054046),\n",
       " '永泰庄': (116.226477, 40.124017),\n",
       " '林萃桥': (116.382609, 40.02879),\n",
       " '森林公园南门': (116.204771, 39.973174),\n",
       " '奥林匹克公园': (116.399127, 40.00121),\n",
       " '奥体中心': (116.400195, 39.992095),\n",
       " '北土城': (116.400623, 39.983231),\n",
       " '安华桥': (116.401461, 39.974291),\n",
       " '安德里北街': (116.406297, 39.963518),\n",
       " '什刹海': (116.380751, 39.952105),\n",
       " '白堆子': (116.33017, 39.932407),\n",
       " '六里桥东': (116.318063, 39.890607),\n",
       " '六里桥': (116.318063, 39.890607),\n",
       " '七里庄': (116.30401, 39.868291),\n",
       " '丰台东大街': (116.300838, 39.870082),\n",
       " '丰台南路': (116.307588, 39.847916),\n",
       " '科怡路': (116.30387, 39.839081),\n",
       " '丰台科技园': (116.285784, 39.837047),\n",
       " '郭公庄': (116.310779, 39.814246),\n",
       " '巴沟': (116.30052, 39.975021),\n",
       " '苏州街': (116.31233, 39.985611),\n",
       " '知春里': (116.326487, 39.980245),\n",
       " '知春路': (116.34177, 39.982208),\n",
       " '西土城': (116.362628, 39.964743),\n",
       " '牡丹园': (116.484888, 39.877726),\n",
       " '健德门': (116.386753, 39.982494),\n",
       " '安贞门': (116.413183, 39.983313),\n",
       " '芍药居': (116.441573, 39.988028),\n",
       " '太阳宫': (116.446059, 39.978245),\n",
       " '三元桥': (116.460972, 39.963256),\n",
       " '亮马桥': (116.481957, 39.963252),\n",
       " '农业展览馆': (116.470462, 39.947098),\n",
       " '团结湖': (116.476639, 39.935523),\n",
       " '金台夕照': (116.466402, 39.921094),\n",
       " '劲松': (116.457353, 39.888495),\n",
       " '潘家园': (116.4568, 39.883743),\n",
       " '十里河': (116.450961, 39.875618),\n",
       " '分钟寺': (116.459899, 39.863038),\n",
       " '成寿寺': (116.443454, 39.858582),\n",
       " '石榴庄': (116.433628, 39.847381),\n",
       " '大红门': (116.423417, 39.807916),\n",
       " '角门东': (116.396398, 39.854743),\n",
       " '草桥': (116.309674, 39.99305),\n",
       " '纪家庙': (116.353416, 39.827359),\n",
       " '丰台站': (116.295648, 39.854462),\n",
       " '西局': (116.312747, 39.877025),\n",
       " '莲花桥': (116.316222, 39.902347),\n",
       " '西钓鱼台': (116.306415, 39.925659),\n",
       " '车道沟': (116.306391, 39.952454),\n",
       " '长春桥': (116.300448, 39.963198),\n",
       " '火器营': (116.293443, 39.971527),\n",
       " '大钟寺': (116.326642, 39.96292),\n",
       " '五道口': (116.346355, 39.991042),\n",
       " '上地': (116.321306, 40.041169),\n",
       " '西二旗': (116.315053, 40.06149),\n",
       " '龙泽': (116.330635, 40.07754),\n",
       " '回龙观': (116.338644, 40.08243),\n",
       " '北苑': (116.427719, 40.03445),\n",
       " '望京西': (116.453997, 40.000755),\n",
       " '光熙门': (116.438824, 39.974318),\n",
       " '柳芳': (116.44511, 39.961223),\n",
       " '张郭庄': (116.202973, 39.854011),\n",
       " '园博园': (116.196619, 39.882144),\n",
       " '大瓦窑': (116.235286, 39.862412),\n",
       " '郭庄子': (116.267079, 39.873678),\n",
       " '大井': (116.280742, 39.877991),\n",
       " '陶然桥': (116.394372, 39.877399),\n",
       " '永定门外': (116.409196, 39.872934),\n",
       " '景泰': (116.417164, 39.871443),\n",
       " '方庄': (116.438453, 39.865144),\n",
       " '南八里庄': (116.469053, 39.884137),\n",
       " '北工大西门': (116.420498, 39.908814),\n",
       " '平乐园': (116.483157, 39.894109),\n",
       " '红庙': (116.487807, 39.923784),\n",
       " '朝阳公园': (116.48832, 39.951732),\n",
       " '东风北桥': (116.494341, 39.96362),\n",
       " '将台': (116.536017, 39.986811),\n",
       " '高家园': (116.488479, 39.986361),\n",
       " '望京南': (116.489347, 40.00241),\n",
       " '望京': (116.489347, 40.00241),\n",
       " '东湖渠': (116.468512, 40.011477),\n",
       " '来广营': (116.479153, 40.001566),\n",
       " '善各庄': (116.490034, 40.032611),\n",
       " '清华东路西口': (116.344839, 40.006275),\n",
       " '六道口': (116.476852, 39.854528),\n",
       " '北沙滩': (116.380989, 40.010688),\n",
       " '安立路': (116.414411, 40.025849),\n",
       " '关庄': (116.440955, 40.008748),\n",
       " '望京东': (116.489347, 40.00241),\n",
       " '崔各庄': (116.468636, 40.055808),\n",
       " '马泉营': (116.515813, 40.043889),\n",
       " '孙河': (116.546719, 40.057928),\n",
       " '国展': (116.449021, 39.96729),\n",
       " '花梨坎': (116.553741, 40.084359),\n",
       " '后沙峪': (116.551449, 40.111767),\n",
       " '南法信': (116.607481, 40.126955),\n",
       " '石门': (116.647499, 40.136314),\n",
       " '顺义': (116.661424, 40.136351),\n",
       " '俸伯': (116.724595, 40.142113),\n",
       " '高碑店': (115.880569, 39.332335),\n",
       " '传媒大学': (116.562085, 39.916879),\n",
       " '双桥': (116.583332, 39.915885),\n",
       " '管庄': (116.596516, 39.920029),\n",
       " '八里桥': (116.643766, 39.918773),\n",
       " '通州北苑': (116.64751, 39.915626),\n",
       " '果园': (116.401675, 39.862861),\n",
       " '九棵树': (116.67105, 39.892748),\n",
       " '梨园': (116.11618, 39.939538),\n",
       " '临河里': (116.694406, 39.880889),\n",
       " '土桥': (116.167105, 40.102218),\n",
       " '昌平西山口': (116.203703, 40.256066),\n",
       " '十三陵景区': (116.202126, 40.301175),\n",
       " '昌平': (116.237618, 40.226413),\n",
       " '昌平东关': (116.266018, 40.226004),\n",
       " '北邵洼': (116.29046, 40.229107),\n",
       " '南邵': (116.29823, 40.240827),\n",
       " '沙河高教园': (114.509474, 36.861127),\n",
       " '沙河': (114.509474, 36.861127),\n",
       " '巩华城': (116.285975, 40.130352),\n",
       " '生命科学园': (116.28386, 40.103423),\n",
       " '肖村': (116.450241, 39.838629),\n",
       " '小红门': (116.46267, 39.848805),\n",
       " '旧宫': (116.453097, 39.812387),\n",
       " '亦庄桥': (116.482134, 39.811433),\n",
       " '亦庄文化园': (116.575503, 39.877178),\n",
       " '万源街': (116.514298, 39.811574),\n",
       " '荣京东街': (116.52204, 39.801896),\n",
       " '荣昌东街': (116.531713, 39.789465),\n",
       " '同济南路': (116.5471, 39.779856),\n",
       " '经海路': (116.559062, 39.801989),\n",
       " '次渠南': (116.589201, 39.813013),\n",
       " '次渠': (116.589201, 39.813013),\n",
       " '新宫': (116.367656, 39.823778),\n",
       " '西红门': (116.398381, 39.754615),\n",
       " '高米店北': (116.347621, 39.773381),\n",
       " '高米店南': (116.347621, 39.773381),\n",
       " '枣园': (116.340682, 39.758825),\n",
       " '清源路': (116.341653, 39.748349),\n",
       " '黄村西大街': (116.336403, 39.737385),\n",
       " '黄村火车站': (116.338019, 39.726571),\n",
       " '义和庄': (116.394219, 39.768616),\n",
       " '生物医药基地': (116.322221, 39.507914),\n",
       " '天宫院': (116.332579, 39.684622),\n",
       " '大葆台': (116.291864, 39.818208),\n",
       " '稻田': (116.225809, 39.790641),\n",
       " '长阳': (116.219263, 39.769411),\n",
       " '篱笆房': (116.25797, 39.964582),\n",
       " '良乡大学城北': (116.16419, 39.730224),\n",
       " '良乡大学城': (116.16419, 39.730224),\n",
       " '良乡大学城西': (116.16419, 39.730224),\n",
       " '良乡南关': (116.147255, 39.72947),\n",
       " '苏庄': (116.127044, 39.734313),\n",
       " 'T3航站楼': (116.597523, 40.077423),\n",
       " 'T2航站楼': (116.601068, 40.08584),\n",
       " '动物园': (116.345204, 39.943923),\n",
       " '草房': (116.622546, 39.930673),\n",
       " '通运门': (116.680444, 39.897391),\n",
       " '化工': (116.510091, 39.893222),\n",
       " '潞城': (116.754799, 39.90889),\n",
       " '双合': (116.533265, 39.866414),\n",
       " '育新': (116.353997, 40.066124),\n",
       " '首经贸': (116.326613, 39.85032),\n",
       " '泥洼': (116.310813, 39.8647),\n",
       " '枣营': (116.48155, 39.950188),\n",
       " '阜通': (116.477642, 39.997887),\n",
       " '广阳城': (116.191395, 39.754016)}"
      ]
     },
     "execution_count": 200,
     "metadata": {},
     "output_type": "execute_result"
    }
   ],
   "source": [
    "station_location"
   ]
  },
  {
   "cell_type": "code",
   "execution_count": 222,
   "metadata": {},
   "outputs": [],
   "source": [
    "station_location['生物医药基地']=(float(116.328329),float(39.692307))"
   ]
  },
  {
   "cell_type": "code",
   "execution_count": 221,
   "metadata": {},
   "outputs": [
    {
     "data": {
      "text/plain": [
       "(116.322221, 39.507914)"
      ]
     },
     "execution_count": 221,
     "metadata": {},
     "output_type": "execute_result"
    }
   ],
   "source": [
    "#station_location['东单']=(115.424934, 46.914785)\n",
    "\n",
    "station_location['生物医药基地']"
   ]
  },
  {
   "cell_type": "code",
   "execution_count": null,
   "metadata": {},
   "outputs": [],
   "source": [
    "# 根据百度地图坐标拾取系统，更改部分站点的经纬度值\n",
    "\n",
    "#del station_location['古城']\n",
    "#del station_location['长阳']  116.219263,39.769411\n",
    "#del station_location['石门']  116.647499,40.136314 \n",
    "#del station_location['良乡南关']  116.147255,39.72947 \n",
    "# 景泰  116.417164,39.871443\n",
    "\n",
    "# 北海北 116.39289,39.939493 \n",
    "# 双桥 116.583332,39.915885\n",
    "\n",
    "# 沙河高教园 116.286757,40.171012\n",
    "\n",
    "# 高碑店 116.538,39.915798 \n",
    "# 沙河 116.295058,40.154693\n",
    "\n",
    "# 生物医药基地 116.328329,39.692307"
   ]
  },
  {
   "cell_type": "code",
   "execution_count": 223,
   "metadata": {},
   "outputs": [],
   "source": [
    "station_graph = nx.Graph()\n",
    "station_graph.add_nodes_from(list(station_location.keys()))"
   ]
  },
  {
   "cell_type": "code",
   "execution_count": 224,
   "metadata": {},
   "outputs": [],
   "source": [
    "%matplotlib inline"
   ]
  },
  {
   "cell_type": "code",
   "execution_count": 225,
   "metadata": {},
   "outputs": [],
   "source": [
    "import matplotlib.pyplot as plt\n",
    "import matplotlib\n",
    "matplotlib.rcParams['font.sans-serif'] = ['SimHei']   # 显示中文\n",
    "matplotlib.rcParams['font.family']='sans-serif'"
   ]
  },
  {
   "cell_type": "code",
   "execution_count": 226,
   "metadata": {},
   "outputs": [
    {
     "data": {
      "image/png": "[encoded data removed]",
      "text/plain": [
       "<Figure size 432x288 with 1 Axes>"
      ]
     },
     "metadata": {},
     "output_type": "display_data"
    }
   ],
   "source": [
    "nx.draw(station_graph, station_location,with_labels=True, node_size=30)"
   ]
  },
  {
   "cell_type": "code",
   "execution_count": 106,
   "metadata": {},
   "outputs": [],
   "source": [
    "from collections import defaultdict"
   ]
  },
  {
   "cell_type": "code",
   "execution_count": 107,
   "metadata": {},
   "outputs": [],
   "source": [
    "station_conn_info = defaultdict(list)"
   ]
  },
  {
   "cell_type": "code",
   "execution_count": 227,
   "metadata": {},
   "outputs": [],
   "source": [
    "station_conn_info.update(station_location)"
   ]
  },
  {
   "cell_type": "code",
   "execution_count": 228,
   "metadata": {},
   "outputs": [
    {
     "data": {
      "text/plain": [
       "defaultdict(list,\n",
       "            {'苹果园': (116.189634, 39.934641),\n",
       "             '古城': (116.197072, 39.913414),\n",
       "             '八角游乐园': (116.218842, 39.913065),\n",
       "             '八宝山': (116.243273, 39.920912),\n",
       "             '玉泉路': (116.259636, 39.921884),\n",
       "             '五棵松': (116.282178, 39.941871),\n",
       "             '万寿路': (116.301316, 39.916633),\n",
       "             '公主坟': (116.194292, 39.810747),\n",
       "             '军事博物馆': (116.330782, 39.915601),\n",
       "             '木樨地': (116.340494, 39.914067),\n",
       "             '南礼士路': (116.360047, 39.921459),\n",
       "             '复兴门': (116.359854, 39.913661),\n",
       "             '西单': (116.379282, 39.916798),\n",
       "             '天安门西': (116.397014, 39.913675),\n",
       "             '天安门东': (116.40726, 39.914107),\n",
       "             '王府井': (116.467388, 39.887659),\n",
       "             '东单': (116.424934, 39.914785),\n",
       "             '建国门': (116.442268, 39.91453),\n",
       "             '永安里': (116.459056, 39.910516),\n",
       "             '国贸': (116.467831, 39.9188),\n",
       "             '大望路': (116.481599, 39.921828),\n",
       "             '四惠': (116.514631, 39.911666),\n",
       "             '四惠东': (116.522522, 39.91424),\n",
       "             '西直门': (116.359764, 39.94746),\n",
       "             '车公庄': (116.360669, 39.94044),\n",
       "             '阜成门': (116.361681, 39.929361),\n",
       "             '长椿街': (116.370073, 39.902824),\n",
       "             '宣武门': (116.381491, 39.902996),\n",
       "             '和平门': (116.392749, 39.906933),\n",
       "             '前门': (116.407808, 39.907456),\n",
       "             '崇文门': (116.428209, 39.907086),\n",
       "             '北京站': (116.426105, 39.908479),\n",
       "             '朝阳门': (116.440191, 39.929785),\n",
       "             '东四十条': (116.432567, 39.939804),\n",
       "             '东直门': (116.44965, 39.937162),\n",
       "             '雍和宫': (116.423785, 39.953237),\n",
       "             '安定门': (116.413076, 39.96707),\n",
       "             '鼓楼大街': (116.401304, 39.959605),\n",
       "             '积水潭': (116.381024, 39.951854),\n",
       "             '安河桥北': (116.276563, 40.019218),\n",
       "             '北宫门': (116.281372, 40.009166),\n",
       "             '西苑': (116.292194, 40.002159),\n",
       "             '圆明园': (116.303374, 40.015009),\n",
       "             '北京大学东门': (116.322123, 39.997986),\n",
       "             '中关村': (116.344895, 39.98727),\n",
       "             '海淀黄庄': (116.323948, 39.982301),\n",
       "             '人民大学': (116.327792, 39.973539),\n",
       "             '魏公村': (116.328927, 39.96029),\n",
       "             '国家图书馆': (116.330736, 39.948999),\n",
       "             '新街口': (116.376298, 39.951552),\n",
       "             '平安里': (116.375904, 39.93743),\n",
       "             '西四': (116.375239, 39.931991),\n",
       "             '灵境胡同': (116.385402, 39.920665),\n",
       "             '菜市口': (116.37963, 39.89629),\n",
       "             '陶然亭': (116.38174, 39.884035),\n",
       "             '北京南站': (116.384898, 39.871343),\n",
       "             '马家堡': (116.384454, 39.848934),\n",
       "             '角门西': (116.377657, 39.852308),\n",
       "             '公益西桥': (116.376253, 39.837153),\n",
       "             '天通苑北': (116.420729, 40.081603),\n",
       "             '天通苑': (116.42267, 40.068559),\n",
       "             '天通苑南': (116.419493, 40.073084),\n",
       "             '立水桥': (116.418465, 40.053024),\n",
       "             '立水桥南': (116.41746, 40.050757),\n",
       "             '北苑路北': (116.424466, 40.035832),\n",
       "             '大屯路东': (116.423816, 40.009929),\n",
       "             '惠新西街北口': (116.423663, 39.993785),\n",
       "             '惠新西街南口': (116.424023, 39.983317),\n",
       "             '和平西桥': (116.426519, 39.975326),\n",
       "             '和平里北街': (116.425575, 39.965527),\n",
       "             '北新桥': (116.446087, 39.974163),\n",
       "             '张自忠路': (116.418395, 39.939625),\n",
       "             '东四': (116.429331, 39.934867),\n",
       "             '灯市口': (116.421831, 39.925202),\n",
       "             '磁器口': (116.426226, 39.898671),\n",
       "             '天坛东门': (116.427279, 39.890061),\n",
       "             '蒲黄榆': (116.424899, 39.871163),\n",
       "             '刘家窑': (116.420749, 39.866428),\n",
       "             '宋家庄': (116.434447, 39.849016),\n",
       "             '海淀五路居': (116.291067, 39.940997),\n",
       "             '慈寿寺': (116.299481, 39.934958),\n",
       "             '花园桥': (116.316542, 39.938302),\n",
       "             '白石桥南': (116.332443, 39.95194),\n",
       "             '车公庄西': (116.332944, 39.936058),\n",
       "             '北海北': (116.39289, 39.939493),\n",
       "             '南锣鼓巷': (116.409524, 39.942648),\n",
       "             '东大桥': (116.45853, 39.929006),\n",
       "             '呼家楼': (116.470752, 39.925326),\n",
       "             '金台路': (116.484674, 39.92498),\n",
       "             '十里堡': (116.509557, 39.921067),\n",
       "             '青年路': (116.522719, 39.960801),\n",
       "             '褡裢坡': (116.569397, 39.928846),\n",
       "             '黄渠': (116.575224, 39.930072),\n",
       "             '常营': (116.58837, 39.933995),\n",
       "             '物资学院路': (116.645993, 39.928854),\n",
       "             '通州北关': (116.660726, 39.925898),\n",
       "             '北运河西': (116.754103, 39.873586),\n",
       "             '北运河东': (116.754103, 39.873586),\n",
       "             '郝家府': (116.725215, 39.907673),\n",
       "             '东夏园': (116.749089, 39.903107),\n",
       "             '北京西站': (116.327694, 39.903473),\n",
       "             '湾子': (116.333131, 39.895712),\n",
       "             '达官营': (116.347996, 39.895496),\n",
       "             '广安门内': (116.376708, 39.899212),\n",
       "             '虎坊桥': (116.393653, 39.894439),\n",
       "             '珠市口': (116.406109, 39.897542),\n",
       "             '桥湾': (116.415142, 39.899084),\n",
       "             '广渠门内': (116.435477, 39.899209),\n",
       "             '广渠门外': (116.49167, 39.898773),\n",
       "             '双井': (116.45556, 39.904957),\n",
       "             '九龙山': (116.054634, 39.958654),\n",
       "             '大郊亭': (116.497375, 39.894153),\n",
       "             '百子湾': (116.480353, 39.906907),\n",
       "             '南楼梓庄': (116.497188, 39.881395),\n",
       "             '欢乐谷景区': (116.496648, 39.872999),\n",
       "             '垡头': (116.522126, 39.864712),\n",
       "             '焦化厂': (116.538157, 39.862384),\n",
       "             '朱辛庄': (116.308545, 40.098752),\n",
       "             '育知路': (116.335088, 40.084853),\n",
       "             '平西府': (116.37599, 40.105565),\n",
       "             '回龙观东大街': (116.367616, 40.086892),\n",
       "             '霍营': (116.379708, 40.085384),\n",
       "             '西小口': (116.355423, 40.054046),\n",
       "             '永泰庄': (116.226477, 40.124017),\n",
       "             '林萃桥': (116.382609, 40.02879),\n",
       "             '森林公园南门': (116.204771, 39.973174),\n",
       "             '奥林匹克公园': (116.399127, 40.00121),\n",
       "             '奥体中心': (116.400195, 39.992095),\n",
       "             '北土城': (116.400623, 39.983231),\n",
       "             '安华桥': (116.401461, 39.974291),\n",
       "             '安德里北街': (116.406297, 39.963518),\n",
       "             '什刹海': (116.380751, 39.952105),\n",
       "             '白堆子': (116.33017, 39.932407),\n",
       "             '六里桥东': (116.318063, 39.890607),\n",
       "             '六里桥': (116.318063, 39.890607),\n",
       "             '七里庄': (116.30401, 39.868291),\n",
       "             '丰台东大街': (116.300838, 39.870082),\n",
       "             '丰台南路': (116.307588, 39.847916),\n",
       "             '科怡路': (116.30387, 39.839081),\n",
       "             '丰台科技园': (116.285784, 39.837047),\n",
       "             '郭公庄': (116.310779, 39.814246),\n",
       "             '巴沟': (116.30052, 39.975021),\n",
       "             '苏州街': (116.31233, 39.985611),\n",
       "             '知春里': (116.326487, 39.980245),\n",
       "             '知春路': (116.34177, 39.982208),\n",
       "             '西土城': (116.362628, 39.964743),\n",
       "             '牡丹园': (116.484888, 39.877726),\n",
       "             '健德门': (116.386753, 39.982494),\n",
       "             '安贞门': (116.413183, 39.983313),\n",
       "             '芍药居': (116.441573, 39.988028),\n",
       "             '太阳宫': (116.446059, 39.978245),\n",
       "             '三元桥': (116.460972, 39.963256),\n",
       "             '亮马桥': (116.481957, 39.963252),\n",
       "             '农业展览馆': (116.470462, 39.947098),\n",
       "             '团结湖': (116.476639, 39.935523),\n",
       "             '金台夕照': (116.466402, 39.921094),\n",
       "             '劲松': (116.457353, 39.888495),\n",
       "             '潘家园': (116.4568, 39.883743),\n",
       "             '十里河': (116.450961, 39.875618),\n",
       "             '分钟寺': (116.459899, 39.863038),\n",
       "             '成寿寺': (116.443454, 39.858582),\n",
       "             '石榴庄': (116.433628, 39.847381),\n",
       "             '大红门': (116.423417, 39.807916),\n",
       "             '角门东': (116.396398, 39.854743),\n",
       "             '草桥': (116.309674, 39.99305),\n",
       "             '纪家庙': (116.353416, 39.827359),\n",
       "             '丰台站': (116.295648, 39.854462),\n",
       "             '西局': (116.312747, 39.877025),\n",
       "             '莲花桥': (116.316222, 39.902347),\n",
       "             '西钓鱼台': (116.306415, 39.925659),\n",
       "             '车道沟': (116.306391, 39.952454),\n",
       "             '长春桥': (116.300448, 39.963198),\n",
       "             '火器营': (116.293443, 39.971527),\n",
       "             '大钟寺': (116.326642, 39.96292),\n",
       "             '五道口': (116.346355, 39.991042),\n",
       "             '上地': (116.321306, 40.041169),\n",
       "             '西二旗': (116.315053, 40.06149),\n",
       "             '龙泽': (116.330635, 40.07754),\n",
       "             '回龙观': (116.338644, 40.08243),\n",
       "             '北苑': (116.427719, 40.03445),\n",
       "             '望京西': (116.453997, 40.000755),\n",
       "             '光熙门': (116.438824, 39.974318),\n",
       "             '柳芳': (116.44511, 39.961223),\n",
       "             '张郭庄': (116.202973, 39.854011),\n",
       "             '园博园': (116.196619, 39.882144),\n",
       "             '大瓦窑': (116.235286, 39.862412),\n",
       "             '郭庄子': (116.267079, 39.873678),\n",
       "             '大井': (116.280742, 39.877991),\n",
       "             '陶然桥': (116.394372, 39.877399),\n",
       "             '永定门外': (116.409196, 39.872934),\n",
       "             '景泰': (116.417164, 39.871443),\n",
       "             '方庄': (116.438453, 39.865144),\n",
       "             '南八里庄': (116.469053, 39.884137),\n",
       "             '北工大西门': (116.420498, 39.908814),\n",
       "             '平乐园': (116.483157, 39.894109),\n",
       "             '红庙': (116.487807, 39.923784),\n",
       "             '朝阳公园': (116.48832, 39.951732),\n",
       "             '东风北桥': (116.494341, 39.96362),\n",
       "             '将台': (116.536017, 39.986811),\n",
       "             '高家园': (116.488479, 39.986361),\n",
       "             '望京南': (116.489347, 40.00241),\n",
       "             '望京': (116.489347, 40.00241),\n",
       "             '东湖渠': (116.468512, 40.011477),\n",
       "             '来广营': (116.479153, 40.001566),\n",
       "             '善各庄': (116.490034, 40.032611),\n",
       "             '清华东路西口': (116.344839, 40.006275),\n",
       "             '六道口': (116.476852, 39.854528),\n",
       "             '北沙滩': (116.380989, 40.010688),\n",
       "             '安立路': (116.414411, 40.025849),\n",
       "             '关庄': (116.440955, 40.008748),\n",
       "             '望京东': (116.489347, 40.00241),\n",
       "             '崔各庄': (116.468636, 40.055808),\n",
       "             '马泉营': (116.515813, 40.043889),\n",
       "             '孙河': (116.546719, 40.057928),\n",
       "             '国展': (116.449021, 39.96729),\n",
       "             '花梨坎': (116.553741, 40.084359),\n",
       "             '后沙峪': (116.551449, 40.111767),\n",
       "             '南法信': (116.607481, 40.126955),\n",
       "             '石门': (116.647499, 40.136314),\n",
       "             '顺义': (116.661424, 40.136351),\n",
       "             '俸伯': (116.724595, 40.142113),\n",
       "             '高碑店': (116.538, 39.915798),\n",
       "             '传媒大学': (116.562085, 39.916879),\n",
       "             '双桥': (116.583332, 39.915885),\n",
       "             '管庄': (116.596516, 39.920029),\n",
       "             '八里桥': (116.643766, 39.918773),\n",
       "             '通州北苑': (116.64751, 39.915626),\n",
       "             '果园': (116.401675, 39.862861),\n",
       "             '九棵树': (116.67105, 39.892748),\n",
       "             '梨园': (116.11618, 39.939538),\n",
       "             '临河里': (116.694406, 39.880889),\n",
       "             '土桥': (116.167105, 40.102218),\n",
       "             '昌平西山口': (116.203703, 40.256066),\n",
       "             '十三陵景区': (116.202126, 40.301175),\n",
       "             '昌平': (116.237618, 40.226413),\n",
       "             '昌平东关': (116.266018, 40.226004),\n",
       "             '北邵洼': (116.29046, 40.229107),\n",
       "             '南邵': (116.29823, 40.240827),\n",
       "             '沙河高教园': (116.286757, 40.171012),\n",
       "             '沙河': (116.295058, 40.154693),\n",
       "             '巩华城': (116.285975, 40.130352),\n",
       "             '生命科学园': (116.28386, 40.103423),\n",
       "             '肖村': (116.450241, 39.838629),\n",
       "             '小红门': (116.46267, 39.848805),\n",
       "             '旧宫': (116.453097, 39.812387),\n",
       "             '亦庄桥': (116.482134, 39.811433),\n",
       "             '亦庄文化园': (116.575503, 39.877178),\n",
       "             '万源街': (116.514298, 39.811574),\n",
       "             '荣京东街': (116.52204, 39.801896),\n",
       "             '荣昌东街': (116.531713, 39.789465),\n",
       "             '同济南路': (116.5471, 39.779856),\n",
       "             '经海路': (116.559062, 39.801989),\n",
       "             '次渠南': (116.589201, 39.813013),\n",
       "             '次渠': (116.589201, 39.813013),\n",
       "             '新宫': (116.367656, 39.823778),\n",
       "             '西红门': (116.398381, 39.754615),\n",
       "             '高米店北': (116.347621, 39.773381),\n",
       "             '高米店南': (116.347621, 39.773381),\n",
       "             '枣园': (116.340682, 39.758825),\n",
       "             '清源路': (116.341653, 39.748349),\n",
       "             '黄村西大街': (116.336403, 39.737385),\n",
       "             '黄村火车站': (116.338019, 39.726571),\n",
       "             '义和庄': (116.394219, 39.768616),\n",
       "             '生物医药基地': (116.328329, 39.692307),\n",
       "             '天宫院': (116.332579, 39.684622),\n",
       "             '大葆台': (116.291864, 39.818208),\n",
       "             '稻田': (116.225809, 39.790641),\n",
       "             '长阳': (116.219263, 39.769411),\n",
       "             '篱笆房': (116.25797, 39.964582),\n",
       "             '良乡大学城北': (116.16419, 39.730224),\n",
       "             '良乡大学城': (116.16419, 39.730224),\n",
       "             '良乡大学城西': (116.16419, 39.730224),\n",
       "             '良乡南关': (116.147255, 39.72947),\n",
       "             '苏庄': (116.127044, 39.734313),\n",
       "             'T3航站楼': (116.597523, 40.077423),\n",
       "             'T2航站楼': (116.601068, 40.08584),\n",
       "             '动物园': (116.345204, 39.943923),\n",
       "             '草房': (116.622546, 39.930673),\n",
       "             '通运门': (116.680444, 39.897391),\n",
       "             '化工': (116.510091, 39.893222),\n",
       "             '潞城': (116.754799, 39.90889),\n",
       "             '双合': (116.533265, 39.866414),\n",
       "             '育新': (116.353997, 40.066124),\n",
       "             '首经贸': (116.326613, 39.85032),\n",
       "             '泥洼': (116.310813, 39.8647),\n",
       "             '枣营': (116.48155, 39.950188),\n",
       "             '阜通': (116.477642, 39.997887),\n",
       "             '广阳城': (116.191395, 39.754016)})"
      ]
     },
     "execution_count": 228,
     "metadata": {},
     "output_type": "execute_result"
    }
   ],
   "source": [
    "station_conn_info"
   ]
  },
  {
   "cell_type": "code",
   "execution_count": 258,
   "metadata": {},
   "outputs": [],
   "source": [
    "# 找出站点间的连接关系  site_connection[站点:[相邻的站点...]...]的结构，站点间的距离用station_distance表示\n",
    "\n",
    "stat_connection = defaultdict(list)\n",
    "for i in range(len(site)):\n",
    "    for j in range(len(site[i])-1):\n",
    "        stat_connection[site[i][j]].append(site[i][j+1])\n",
    "        stat_connection[site[i][j+1]].append(site[i][j])\n",
    "        \n",
    "            "
   ]
  },
  {
   "cell_type": "code",
   "execution_count": 259,
   "metadata": {},
   "outputs": [
    {
     "data": {
      "text/plain": [
       "defaultdict(list,\n",
       "            {'苹果园': ['古城'],\n",
       "             '古城': ['苹果园', '八角游乐园'],\n",
       "             '八角游乐园': ['古城', '八宝山'],\n",
       "             '八宝山': ['八角游乐园', '玉泉路'],\n",
       "             '玉泉路': ['八宝山', '五棵松'],\n",
       "             '五棵松': ['玉泉路', '万寿路'],\n",
       "             '万寿路': ['五棵松', '公主坟'],\n",
       "             '公主坟': ['万寿路', '军事博物馆', '莲花桥', '西钓鱼台'],\n",
       "             '军事博物馆': ['公主坟', '木樨地', '白堆子', '北京西站'],\n",
       "             '木樨地': ['军事博物馆', '南礼士路'],\n",
       "             '南礼士路': ['木樨地', '复兴门'],\n",
       "             '复兴门': ['南礼士路', '西单', '阜成门', '长椿街'],\n",
       "             '西单': ['复兴门', '天安门西', '灵境胡同', '宣武门'],\n",
       "             '天安门西': ['西单', '天安门东'],\n",
       "             '天安门东': ['天安门西', '王府井'],\n",
       "             '王府井': ['天安门东', '东单'],\n",
       "             '东单': ['王府井', '建国门', '灯市口', '崇文门'],\n",
       "             '建国门': ['东单', '永安里', '北京站', '朝阳门'],\n",
       "             '永安里': ['建国门', '国贸'],\n",
       "             '国贸': ['永安里', '大望路', '金台夕照', '双井'],\n",
       "             '大望路': ['国贸', '四惠', '九龙山', '红庙'],\n",
       "             '四惠': ['大望路', '四惠东', '四惠东'],\n",
       "             '四惠东': ['四惠', '四惠', '高碑店'],\n",
       "             '西直门': ['车公庄', '积水潭', '动物园', '新街口', '大钟寺'],\n",
       "             '车公庄': ['西直门', '阜成门', '车公庄西', '平安里'],\n",
       "             '阜成门': ['车公庄', '复兴门'],\n",
       "             '长椿街': ['复兴门', '宣武门'],\n",
       "             '宣武门': ['长椿街', '和平门', '西单', '菜市口'],\n",
       "             '和平门': ['宣武门', '前门'],\n",
       "             '前门': ['和平门', '崇文门'],\n",
       "             '崇文门': ['前门', '北京站', '东单', '磁器口'],\n",
       "             '北京站': ['崇文门', '建国门'],\n",
       "             '朝阳门': ['建国门', '东四十条', '东四', '东大桥'],\n",
       "             '东四十条': ['朝阳门', '东直门'],\n",
       "             '东直门': ['东四十条', '雍和宫', '柳芳', '三元桥'],\n",
       "             '雍和宫': ['东直门', '安定门', '和平里北街', '北新桥'],\n",
       "             '安定门': ['雍和宫', '鼓楼大街'],\n",
       "             '鼓楼大街': ['安定门', '积水潭', '安德里北街', '什刹海'],\n",
       "             '积水潭': ['鼓楼大街', '西直门'],\n",
       "             '安河桥北': ['北宫门'],\n",
       "             '北宫门': ['安河桥北', '西苑'],\n",
       "             '西苑': ['北宫门', '圆明园'],\n",
       "             '圆明园': ['西苑', '北京大学东门'],\n",
       "             '北京大学东门': ['圆明园', '中关村'],\n",
       "             '中关村': ['北京大学东门', '海淀黄庄'],\n",
       "             '海淀黄庄': ['中关村', '人民大学', '苏州街', '知春里'],\n",
       "             '人民大学': ['海淀黄庄', '魏公村'],\n",
       "             '魏公村': ['人民大学', '国家图书馆'],\n",
       "             '国家图书馆': ['魏公村', '动物园', '白石桥南'],\n",
       "             '动物园': ['国家图书馆', '西直门'],\n",
       "             '新街口': ['西直门', '平安里'],\n",
       "             '平安里': ['新街口', '西四', '车公庄', '北海北'],\n",
       "             '西四': ['平安里', '灵境胡同'],\n",
       "             '灵境胡同': ['西四', '西单'],\n",
       "             '菜市口': ['宣武门', '陶然亭', '广安门内', '虎坊桥'],\n",
       "             '陶然亭': ['菜市口', '北京南站'],\n",
       "             '北京南站': ['陶然亭', '马家堡', '陶然桥'],\n",
       "             '马家堡': ['北京南站', '角门西'],\n",
       "             '角门西': ['马家堡', '公益西桥', '角门东', '草桥'],\n",
       "             '公益西桥': ['角门西', '新宫'],\n",
       "             '天通苑北': ['天通苑'],\n",
       "             '天通苑': ['天通苑北', '天通苑南'],\n",
       "             '天通苑南': ['天通苑', '立水桥'],\n",
       "             '立水桥': ['天通苑南', '立水桥南', '霍营', '北苑'],\n",
       "             '立水桥南': ['立水桥', '北苑路北'],\n",
       "             '北苑路北': ['立水桥南', '大屯路东'],\n",
       "             '大屯路东': ['北苑路北', '惠新西街北口', '安立路', '关庄'],\n",
       "             '惠新西街北口': ['大屯路东', '惠新西街南口'],\n",
       "             '惠新西街南口': ['惠新西街北口', '和平西桥', '安贞门', '芍药居'],\n",
       "             '和平西桥': ['惠新西街南口', '和平里北街'],\n",
       "             '和平里北街': ['和平西桥', '雍和宫'],\n",
       "             '北新桥': ['雍和宫', '张自忠路'],\n",
       "             '张自忠路': ['北新桥', '东四'],\n",
       "             '东四': ['张自忠路', '灯市口', '南锣鼓巷', '朝阳门'],\n",
       "             '灯市口': ['东四', '东单'],\n",
       "             '磁器口': ['崇文门', '天坛东门', '桥湾', '广渠门内'],\n",
       "             '天坛东门': ['磁器口', '蒲黄榆'],\n",
       "             '蒲黄榆': ['天坛东门', '刘家窑', '景泰', '方庄'],\n",
       "             '刘家窑': ['蒲黄榆', '宋家庄'],\n",
       "             '宋家庄': ['刘家窑', '成寿寺', '石榴庄', '肖村'],\n",
       "             '海淀五路居': ['慈寿寺'],\n",
       "             '慈寿寺': ['海淀五路居', '花园桥', '西钓鱼台', '车道沟'],\n",
       "             '花园桥': ['慈寿寺', '白石桥南'],\n",
       "             '白石桥南': ['花园桥', '车公庄西', '国家图书馆', '白堆子'],\n",
       "             '车公庄西': ['白石桥南', '车公庄'],\n",
       "             '北海北': ['平安里', '南锣鼓巷'],\n",
       "             '南锣鼓巷': ['北海北', '东四', '什刹海'],\n",
       "             '东大桥': ['朝阳门', '呼家楼'],\n",
       "             '呼家楼': ['东大桥', '金台路', '团结湖', '金台夕照'],\n",
       "             '金台路': ['呼家楼', '十里堡', '红庙', '朝阳公园'],\n",
       "             '十里堡': ['金台路', '青年路'],\n",
       "             '青年路': ['十里堡', '褡裢坡'],\n",
       "             '褡裢坡': ['青年路', '黄渠'],\n",
       "             '黄渠': ['褡裢坡', '常营'],\n",
       "             '常营': ['黄渠', '草房'],\n",
       "             '草房': ['常营', '物资学院路'],\n",
       "             '物资学院路': ['草房', '通州北关'],\n",
       "             '通州北关': ['物资学院路', '通运门'],\n",
       "             '通运门': ['通州北关', '北运河西'],\n",
       "             '北运河西': ['通运门', '北运河东'],\n",
       "             '北运河东': ['北运河西', '郝家府'],\n",
       "             '郝家府': ['北运河东', '东夏园'],\n",
       "             '东夏园': ['郝家府', '潞城'],\n",
       "             '潞城': ['东夏园'],\n",
       "             '北京西站': ['湾子', '军事博物馆', '六里桥东'],\n",
       "             '湾子': ['北京西站', '达官营'],\n",
       "             '达官营': ['湾子', '广安门内'],\n",
       "             '广安门内': ['达官营', '菜市口'],\n",
       "             '虎坊桥': ['菜市口', '珠市口'],\n",
       "             '珠市口': ['虎坊桥', '桥湾'],\n",
       "             '桥湾': ['珠市口', '磁器口'],\n",
       "             '广渠门内': ['磁器口', '广渠门外'],\n",
       "             '广渠门外': ['广渠门内', '双井'],\n",
       "             '双井': ['广渠门外', '九龙山', '国贸', '劲松'],\n",
       "             '九龙山': ['双井', '大郊亭', '平乐园', '大望路'],\n",
       "             '大郊亭': ['九龙山', '百子湾'],\n",
       "             '百子湾': ['大郊亭', '化工'],\n",
       "             '化工': ['百子湾', '南楼梓庄'],\n",
       "             '南楼梓庄': ['化工', '欢乐谷景区'],\n",
       "             '欢乐谷景区': ['南楼梓庄', '垡头'],\n",
       "             '垡头': ['欢乐谷景区', '双合'],\n",
       "             '双合': ['垡头', '焦化厂'],\n",
       "             '焦化厂': ['双合'],\n",
       "             '朱辛庄': ['育知路', '巩华城', '生命科学园'],\n",
       "             '育知路': ['朱辛庄', '平西府'],\n",
       "             '平西府': ['育知路', '回龙观东大街'],\n",
       "             '回龙观东大街': ['平西府', '霍营'],\n",
       "             '霍营': ['回龙观东大街', '育新', '回龙观', '立水桥'],\n",
       "             '育新': ['霍营', '西小口'],\n",
       "             '西小口': ['育新', '永泰庄'],\n",
       "             '永泰庄': ['西小口', '林萃桥'],\n",
       "             '林萃桥': ['永泰庄', '森林公园南门'],\n",
       "             '森林公园南门': ['林萃桥', '奥林匹克公园'],\n",
       "             '奥林匹克公园': ['森林公园南门', '奥体中心', '北沙滩', '安立路'],\n",
       "             '奥体中心': ['奥林匹克公园', '北土城'],\n",
       "             '北土城': ['奥体中心', '安华桥', '健德门', '安贞门'],\n",
       "             '安华桥': ['北土城', '安德里北街'],\n",
       "             '安德里北街': ['安华桥', '鼓楼大街'],\n",
       "             '什刹海': ['鼓楼大街', '南锣鼓巷'],\n",
       "             '白堆子': ['白石桥南', '军事博物馆'],\n",
       "             '六里桥东': ['北京西站', '六里桥'],\n",
       "             '六里桥': ['六里桥东', '七里庄', '西局', '莲花桥'],\n",
       "             '七里庄': ['六里桥', '丰台东大街', '大井', '西局'],\n",
       "             '丰台东大街': ['七里庄', '丰台南路'],\n",
       "             '丰台南路': ['丰台东大街', '科怡路'],\n",
       "             '科怡路': ['丰台南路', '丰台科技园'],\n",
       "             '丰台科技园': ['科怡路', '郭公庄'],\n",
       "             '郭公庄': ['丰台科技园', '大葆台'],\n",
       "             '巴沟': ['苏州街', '火器营'],\n",
       "             '苏州街': ['巴沟', '海淀黄庄'],\n",
       "             '知春里': ['海淀黄庄', '知春路'],\n",
       "             '知春路': ['知春里', '西土城', '大钟寺', '五道口'],\n",
       "             '西土城': ['知春路', '牡丹园'],\n",
       "             '牡丹园': ['西土城', '健德门'],\n",
       "             '健德门': ['牡丹园', '北土城'],\n",
       "             '安贞门': ['北土城', '惠新西街南口'],\n",
       "             '芍药居': ['惠新西街南口', '太阳宫', '望京西', '光熙门'],\n",
       "             '太阳宫': ['芍药居', '三元桥'],\n",
       "             '三元桥': ['太阳宫', '亮马桥', '东直门', 'T3航站楼', 'T2航站楼'],\n",
       "             '亮马桥': ['三元桥', '农业展览馆'],\n",
       "             '农业展览馆': ['亮马桥', '团结湖'],\n",
       "             '团结湖': ['农业展览馆', '呼家楼'],\n",
       "             '金台夕照': ['呼家楼', '国贸'],\n",
       "             '劲松': ['双井', '潘家园'],\n",
       "             '潘家园': ['劲松', '十里河'],\n",
       "             '十里河': ['潘家园', '分钟寺', '方庄', '南八里庄'],\n",
       "             '分钟寺': ['十里河', '成寿寺'],\n",
       "             '成寿寺': ['分钟寺', '宋家庄'],\n",
       "             '石榴庄': ['宋家庄', '大红门'],\n",
       "             '大红门': ['石榴庄', '角门东'],\n",
       "             '角门东': ['大红门', '角门西'],\n",
       "             '草桥': ['角门西', '纪家庙'],\n",
       "             '纪家庙': ['草桥', '首经贸'],\n",
       "             '首经贸': ['纪家庙', '丰台站'],\n",
       "             '丰台站': ['首经贸', '泥洼'],\n",
       "             '泥洼': ['丰台站', '西局'],\n",
       "             '西局': ['泥洼', '六里桥', '七里庄'],\n",
       "             '莲花桥': ['六里桥', '公主坟'],\n",
       "             '西钓鱼台': ['公主坟', '慈寿寺'],\n",
       "             '车道沟': ['慈寿寺', '长春桥'],\n",
       "             '长春桥': ['车道沟', '火器营'],\n",
       "             '火器营': ['长春桥', '巴沟'],\n",
       "             '大钟寺': ['西直门', '知春路'],\n",
       "             '五道口': ['知春路', '上地'],\n",
       "             '上地': ['五道口', '西二旗'],\n",
       "             '西二旗': ['上地', '龙泽', '生命科学园'],\n",
       "             '龙泽': ['西二旗', '回龙观'],\n",
       "             '回龙观': ['龙泽', '霍营'],\n",
       "             '北苑': ['立水桥', '望京西'],\n",
       "             '望京西': ['北苑', '芍药居', '关庄', '望京'],\n",
       "             '光熙门': ['芍药居', '柳芳'],\n",
       "             '柳芳': ['光熙门', '东直门'],\n",
       "             '张郭庄': ['园博园'],\n",
       "             '园博园': ['张郭庄', '大瓦窑'],\n",
       "             '大瓦窑': ['园博园', '郭庄子'],\n",
       "             '郭庄子': ['大瓦窑', '大井'],\n",
       "             '大井': ['郭庄子', '七里庄'],\n",
       "             '陶然桥': ['北京南站', '永定门外'],\n",
       "             '永定门外': ['陶然桥', '景泰'],\n",
       "             '景泰': ['永定门外', '蒲黄榆'],\n",
       "             '方庄': ['蒲黄榆', '十里河'],\n",
       "             '南八里庄': ['十里河', '北工大西门'],\n",
       "             '北工大西门': ['南八里庄', '平乐园'],\n",
       "             '平乐园': ['北工大西门', '九龙山'],\n",
       "             '红庙': ['大望路', '金台路'],\n",
       "             '朝阳公园': ['金台路', '枣营'],\n",
       "             '枣营': ['朝阳公园', '东风北桥'],\n",
       "             '东风北桥': ['枣营', '将台'],\n",
       "             '将台': ['东风北桥', '高家园'],\n",
       "             '高家园': ['将台', '望京南'],\n",
       "             '望京南': ['高家园', '阜通'],\n",
       "             '阜通': ['望京南', '望京'],\n",
       "             '望京': ['阜通', '东湖渠', '望京西', '望京东'],\n",
       "             '东湖渠': ['望京', '来广营'],\n",
       "             '来广营': ['东湖渠', '善各庄'],\n",
       "             '善各庄': ['来广营'],\n",
       "             '清华东路西口': ['六道口'],\n",
       "             '六道口': ['清华东路西口', '北沙滩'],\n",
       "             '北沙滩': ['六道口', '奥林匹克公园'],\n",
       "             '安立路': ['奥林匹克公园', '大屯路东'],\n",
       "             '关庄': ['大屯路东', '望京西'],\n",
       "             '望京东': ['望京', '崔各庄'],\n",
       "             '崔各庄': ['望京东', '马泉营'],\n",
       "             '马泉营': ['崔各庄', '孙河'],\n",
       "             '孙河': ['马泉营', '国展'],\n",
       "             '国展': ['孙河', '花梨坎'],\n",
       "             '花梨坎': ['国展', '后沙峪'],\n",
       "             '后沙峪': ['花梨坎', '南法信'],\n",
       "             '南法信': ['后沙峪', '石门'],\n",
       "             '石门': ['南法信', '顺义'],\n",
       "             '顺义': ['石门', '俸伯'],\n",
       "             '俸伯': ['顺义'],\n",
       "             '高碑店': ['四惠东', '传媒大学'],\n",
       "             '传媒大学': ['高碑店', '双桥'],\n",
       "             '双桥': ['传媒大学', '管庄'],\n",
       "             '管庄': ['双桥', '八里桥'],\n",
       "             '八里桥': ['管庄', '通州北苑'],\n",
       "             '通州北苑': ['八里桥', '果园'],\n",
       "             '果园': ['通州北苑', '九棵树'],\n",
       "             '九棵树': ['果园', '梨园'],\n",
       "             '梨园': ['九棵树', '临河里'],\n",
       "             '临河里': ['梨园', '土桥'],\n",
       "             '土桥': ['临河里'],\n",
       "             '昌平西山口': ['十三陵景区'],\n",
       "             '十三陵景区': ['昌平西山口', '昌平'],\n",
       "             '昌平': ['十三陵景区', '昌平东关'],\n",
       "             '昌平东关': ['昌平', '北邵洼'],\n",
       "             '北邵洼': ['昌平东关', '南邵'],\n",
       "             '南邵': ['北邵洼', '沙河高教园'],\n",
       "             '沙河高教园': ['南邵', '沙河'],\n",
       "             '沙河': ['沙河高教园', '巩华城'],\n",
       "             '巩华城': ['沙河', '朱辛庄'],\n",
       "             '生命科学园': ['朱辛庄', '西二旗'],\n",
       "             '肖村': ['宋家庄', '小红门'],\n",
       "             '小红门': ['肖村', '旧宫'],\n",
       "             '旧宫': ['小红门', '亦庄桥'],\n",
       "             '亦庄桥': ['旧宫', '亦庄文化园'],\n",
       "             '亦庄文化园': ['亦庄桥', '万源街'],\n",
       "             '万源街': ['亦庄文化园', '荣京东街'],\n",
       "             '荣京东街': ['万源街', '荣昌东街'],\n",
       "             '荣昌东街': ['荣京东街', '同济南路'],\n",
       "             '同济南路': ['荣昌东街', '经海路'],\n",
       "             '经海路': ['同济南路', '次渠南'],\n",
       "             '次渠南': ['经海路', '次渠'],\n",
       "             '次渠': ['次渠南'],\n",
       "             '新宫': ['公益西桥', '西红门'],\n",
       "             '西红门': ['新宫', '高米店北'],\n",
       "             '高米店北': ['西红门', '高米店南'],\n",
       "             '高米店南': ['高米店北', '枣园'],\n",
       "             '枣园': ['高米店南', '清源路'],\n",
       "             '清源路': ['枣园', '黄村西大街'],\n",
       "             '黄村西大街': ['清源路', '黄村火车站'],\n",
       "             '黄村火车站': ['黄村西大街', '义和庄'],\n",
       "             '义和庄': ['黄村火车站', '生物医药基地'],\n",
       "             '生物医药基地': ['义和庄', '天宫院'],\n",
       "             '天宫院': ['生物医药基地'],\n",
       "             '大葆台': ['郭公庄', '稻田'],\n",
       "             '稻田': ['大葆台', '长阳'],\n",
       "             '长阳': ['稻田', '篱笆房'],\n",
       "             '篱笆房': ['长阳', '广阳城'],\n",
       "             '广阳城': ['篱笆房', '良乡大学城北'],\n",
       "             '良乡大学城北': ['广阳城', '良乡大学城'],\n",
       "             '良乡大学城': ['良乡大学城北', '良乡大学城西'],\n",
       "             '良乡大学城西': ['良乡大学城', '良乡南关'],\n",
       "             '良乡南关': ['良乡大学城西', '苏庄'],\n",
       "             '苏庄': ['良乡南关'],\n",
       "             'T3航站楼': ['三元桥', 'T2航站楼'],\n",
       "             'T2航站楼': ['T3航站楼', '三元桥']})"
      ]
     },
     "execution_count": 259,
     "metadata": {},
     "output_type": "execute_result"
    }
   ],
   "source": [
    "stat_connection"
   ]
  },
  {
   "cell_type": "code",
   "execution_count": 261,
   "metadata": {},
   "outputs": [],
   "source": [
    "site_with_road = nx.Graph(stat_connection)"
   ]
  },
  {
   "cell_type": "code",
   "execution_count": 262,
   "metadata": {},
   "outputs": [
    {
     "data": {
      "image/png": "[encoded data removed]",
      "text/plain": [
       "<Figure size 432x288 with 1 Axes>"
      ]
     },
     "metadata": {},
     "output_type": "display_data"
    }
   ],
   "source": [
    "nx.draw(site_with_road, station_location,with_labels=True, node_size=30)"
   ]
  },
  {
   "cell_type": "code",
   "execution_count": 263,
   "metadata": {},
   "outputs": [],
   "source": [
    "def search(start, destination, connection_grpah, sort_candidate):\n",
    "    pathes = [[start]]\n",
    "    \n",
    "    visitied = set()\n",
    "    \n",
    "    while pathes: # if we find existing pathes\n",
    "        path = pathes.pop(0)\n",
    "        froninter = path[-1]\n",
    "        \n",
    "        if froninter in visitied: continue\n",
    "            \n",
    "        successors = connection_grpah[froninter]\n",
    "        \n",
    "        for city in successors:\n",
    "            if city in path: continue  # eliminate loop\n",
    "                \n",
    "            new_path = path + [city]\n",
    "            \n",
    "            pathes.append(new_path)\n",
    "            \n",
    "            if city == destination: return new_path\n",
    "        \n",
    "        visitied.add(froninter)\n",
    "        \n",
    "        pathes = sort_candidate(pathes) # 我们可以加一个排序函数 对我们的搜索策略进行控制"
   ]
  },
  {
   "cell_type": "code",
   "execution_count": 264,
   "metadata": {},
   "outputs": [],
   "source": [
    "# 最少换乘优先\n",
    "def transfer_stations_first(pathes): \n",
    "    return sorted(pathes, key=len)"
   ]
  },
  {
   "cell_type": "code",
   "execution_count": 269,
   "metadata": {},
   "outputs": [],
   "source": [
    "def pretty_print(cities):\n",
    "    print('->'.join(cities))"
   ]
  },
  {
   "cell_type": "code",
   "execution_count": 327,
   "metadata": {},
   "outputs": [
    {
     "name": "stdout",
     "output_type": "stream",
     "text": [
      "奥体中心->北土城->安华桥->安德里北街->鼓楼大街->什刹海->南锣鼓巷->东四->灯市口->东单->王府井->天安门东\n"
     ]
    }
   ],
   "source": [
    "pretty_print(search('奥体中心', '天安门东', stat_connection, sort_candidate=transfer_stations_first))    # 和百度地图查询的结果一致"
   ]
  },
  {
   "cell_type": "code",
   "execution_count": 271,
   "metadata": {},
   "outputs": [
    {
     "data": {
      "text/html": [
       "<div>\n",
       "<style scoped>\n",
       "    .dataframe tbody tr th:only-of-type {\n",
       "        vertical-align: middle;\n",
       "    }\n",
       "\n",
       "    .dataframe tbody tr th {\n",
       "        vertical-align: top;\n",
       "    }\n",
       "\n",
       "    .dataframe thead th {\n",
       "        text-align: right;\n",
       "    }\n",
       "</style>\n",
       "<table border=\"1\" class=\"dataframe\">\n",
       "  <thead>\n",
       "    <tr style=\"text-align: right;\">\n",
       "      <th></th>\n",
       "      <th>station_name</th>\n",
       "      <th>station_distance</th>\n",
       "    </tr>\n",
       "  </thead>\n",
       "  <tbody>\n",
       "    <tr>\n",
       "      <th>0</th>\n",
       "      <td>苹果园――古城</td>\n",
       "      <td>2606</td>\n",
       "    </tr>\n",
       "    <tr>\n",
       "      <th>1</th>\n",
       "      <td>古城――八角游乐园</td>\n",
       "      <td>1921</td>\n",
       "    </tr>\n",
       "    <tr>\n",
       "      <th>2</th>\n",
       "      <td>八角游乐园――八宝山</td>\n",
       "      <td>1953</td>\n",
       "    </tr>\n",
       "    <tr>\n",
       "      <th>3</th>\n",
       "      <td>八宝山――玉泉路</td>\n",
       "      <td>1479</td>\n",
       "    </tr>\n",
       "    <tr>\n",
       "      <th>4</th>\n",
       "      <td>玉泉路――五棵松</td>\n",
       "      <td>1810</td>\n",
       "    </tr>\n",
       "  </tbody>\n",
       "</table>\n",
       "</div>"
      ],
      "text/plain": [
       "  station_name station_distance\n",
       "0      苹果园――古城             2606\n",
       "1    古城――八角游乐园             1921\n",
       "2   八角游乐园――八宝山             1953\n",
       "3     八宝山――玉泉路             1479\n",
       "4     玉泉路――五棵松             1810"
      ]
     },
     "execution_count": 271,
     "metadata": {},
     "output_type": "execute_result"
    }
   ],
   "source": [
    "df.head()"
   ]
  },
  {
   "cell_type": "code",
   "execution_count": 276,
   "metadata": {},
   "outputs": [],
   "source": [
    "# 将station_name列 进行分割\n",
    "df1 = pd.DataFrame((x.split('――') for x in df.station_name),index=df.index,columns=['site1','site2'])"
   ]
  },
  {
   "cell_type": "code",
   "execution_count": 278,
   "metadata": {},
   "outputs": [],
   "source": [
    "# 合并\n",
    "df2 = pd.merge(df,df1,right_index=True,left_index=True)"
   ]
  },
  {
   "cell_type": "code",
   "execution_count": 280,
   "metadata": {},
   "outputs": [
    {
     "data": {
      "text/html": [
       "<div>\n",
       "<style scoped>\n",
       "    .dataframe tbody tr th:only-of-type {\n",
       "        vertical-align: middle;\n",
       "    }\n",
       "\n",
       "    .dataframe tbody tr th {\n",
       "        vertical-align: top;\n",
       "    }\n",
       "\n",
       "    .dataframe thead th {\n",
       "        text-align: right;\n",
       "    }\n",
       "</style>\n",
       "<table border=\"1\" class=\"dataframe\">\n",
       "  <thead>\n",
       "    <tr style=\"text-align: right;\">\n",
       "      <th></th>\n",
       "      <th>station_name</th>\n",
       "      <th>station_distance</th>\n",
       "      <th>site1</th>\n",
       "      <th>site2</th>\n",
       "    </tr>\n",
       "  </thead>\n",
       "  <tbody>\n",
       "    <tr>\n",
       "      <th>0</th>\n",
       "      <td>苹果园――古城</td>\n",
       "      <td>2606</td>\n",
       "      <td>苹果园</td>\n",
       "      <td>古城</td>\n",
       "    </tr>\n",
       "    <tr>\n",
       "      <th>1</th>\n",
       "      <td>古城――八角游乐园</td>\n",
       "      <td>1921</td>\n",
       "      <td>古城</td>\n",
       "      <td>八角游乐园</td>\n",
       "    </tr>\n",
       "    <tr>\n",
       "      <th>2</th>\n",
       "      <td>八角游乐园――八宝山</td>\n",
       "      <td>1953</td>\n",
       "      <td>八角游乐园</td>\n",
       "      <td>八宝山</td>\n",
       "    </tr>\n",
       "    <tr>\n",
       "      <th>3</th>\n",
       "      <td>八宝山――玉泉路</td>\n",
       "      <td>1479</td>\n",
       "      <td>八宝山</td>\n",
       "      <td>玉泉路</td>\n",
       "    </tr>\n",
       "    <tr>\n",
       "      <th>4</th>\n",
       "      <td>玉泉路――五棵松</td>\n",
       "      <td>1810</td>\n",
       "      <td>玉泉路</td>\n",
       "      <td>五棵松</td>\n",
       "    </tr>\n",
       "  </tbody>\n",
       "</table>\n",
       "</div>"
      ],
      "text/plain": [
       "  station_name station_distance  site1  site2\n",
       "0      苹果园――古城             2606    苹果园     古城\n",
       "1    古城――八角游乐园             1921     古城  八角游乐园\n",
       "2   八角游乐园――八宝山             1953  八角游乐园    八宝山\n",
       "3     八宝山――玉泉路             1479    八宝山    玉泉路\n",
       "4     玉泉路――五棵松             1810    玉泉路    五棵松"
      ]
     },
     "execution_count": 280,
     "metadata": {},
     "output_type": "execute_result"
    }
   ],
   "source": [
    "df2.head()"
   ]
  },
  {
   "cell_type": "code",
   "execution_count": 358,
   "metadata": {},
   "outputs": [],
   "source": [
    "# 根据API返回的数据计算两个站点之间的距离  ，这个写法有点慢，后续需要改进\n",
    "global distance\n",
    "def geo_distance(site1,site2):\n",
    "    for i in range(len(df2.site1)):\n",
    "        for j in range(len(df2.site2)):\n",
    "            if site1 in df2.site1[i]:\n",
    "                continue\n",
    "            if site2 in df2.site2[j]:\n",
    "                distance = int(df2.station_distance[j])\n",
    "    \n",
    "    return distance\n",
    "        "
   ]
  },
  {
   "cell_type": "code",
   "execution_count": 359,
   "metadata": {},
   "outputs": [
    {
     "data": {
      "text/plain": [
       "2606"
      ]
     },
     "execution_count": 359,
     "metadata": {},
     "output_type": "execute_result"
    }
   ],
   "source": [
    "geo_distance('苹果园','古城')"
   ]
  },
  {
   "cell_type": "code",
   "execution_count": 360,
   "metadata": {},
   "outputs": [],
   "source": [
    "# 最短路径优先\n",
    "def shortest_path_first(pathes):\n",
    "    if len(pathes) <= 1: return pathes\n",
    "    def get_path_distnace(path):\n",
    "        distance = 0\n",
    "        for station in path[:-1]:\n",
    "            distance += geo_distance(station, path[-1])\n",
    "            \n",
    "        return distance\n",
    "\n",
    "    return sorted(pathes, key=get_path_distnace)"
   ]
  },
  {
   "cell_type": "code",
   "execution_count": 365,
   "metadata": {},
   "outputs": [
    {
     "name": "stdout",
     "output_type": "stream",
     "text": [
      "苹果园->古城\n"
     ]
    }
   ],
   "source": [
    "pretty_print(search('苹果园', '古城', stat_connection, sort_candidate=shortest_path_first))"
   ]
  },
  {
   "cell_type": "code",
   "execution_count": null,
   "metadata": {},
   "outputs": [],
   "source": []
  }
 ],
 "metadata": {
  "kernelspec": {
   "display_name": "Python 3",
   "language": "python",
   "name": "python3"
  },
  "language_info": {
   "codemirror_mode": {
    "name": "ipython",
    "version": 3
   },
   "file_extension": ".py",
   "mimetype": "text/x-python",
   "name": "python",
   "nbconvert_exporter": "python",
   "pygments_lexer": "ipython3",
   "version": "3.6.5"
  }
 },
 "nbformat": 4,
 "nbformat_minor": 2
}
